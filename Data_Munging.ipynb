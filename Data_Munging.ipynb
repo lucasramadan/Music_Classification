{
 "cells": [
  {
   "cell_type": "code",
   "execution_count": null,
   "metadata": {
    "collapsed": true
   },
   "outputs": [],
   "source": [
    "reset -sf"
   ]
  },
  {
   "cell_type": "code",
   "execution_count": 1,
   "metadata": {
    "collapsed": true
   },
   "outputs": [],
   "source": [
    "import pandas as pd\n",
    "import ftfy\n",
    "import numpy as np\n",
    "import matplotlib.pyplot as plt\n",
    "import string\n",
    "%matplotlib inline"
   ]
  },
  {
   "cell_type": "code",
   "execution_count": 2,
   "metadata": {
    "collapsed": true
   },
   "outputs": [],
   "source": [
    "from sklearn.feature_extraction.text import CountVectorizer, TfidfVectorizer\n",
    "from sklearn.feature_extraction import stop_words\n",
    "from sklearn.naive_bayes import BernoulliNB, GaussianNB, MultinomialNB\n",
    "from sklearn.cross_validation import train_test_split\n",
    "from sklearn.cross_validation import cross_val_score\n",
    "from sklearn.ensemble import RandomForestClassifier, ExtraTreesClassifier, GradientBoostingClassifier"
   ]
  },
  {
   "cell_type": "code",
   "execution_count": 3,
   "metadata": {
    "collapsed": false
   },
   "outputs": [
    {
     "data": {
      "text/html": [
       "<div>\n",
       "<table border=\"1\" class=\"dataframe\">\n",
       "  <thead>\n",
       "    <tr style=\"text-align: right;\">\n",
       "      <th></th>\n",
       "      <th>artist</th>\n",
       "      <th>song</th>\n",
       "      <th>link</th>\n",
       "      <th>lyrics</th>\n",
       "      <th>genre</th>\n",
       "    </tr>\n",
       "  </thead>\n",
       "  <tbody>\n",
       "    <tr>\n",
       "      <th>0</th>\n",
       "      <td>Mos Def</td>\n",
       "      <td>Mathematics prod. by DJ Premier</td>\n",
       "      <td>http://genius.com/Yasiin-bey-mathematics-lyrics</td>\n",
       "      <td>Beats by Su-Primo for all of my people, negroe...</td>\n",
       "      <td>rap</td>\n",
       "    </tr>\n",
       "    <tr>\n",
       "      <th>1</th>\n",
       "      <td>Mos Def</td>\n",
       "      <td>Back Home by A$AP Rocky  (Ft. Acyde &amp; A$AP Yam...</td>\n",
       "      <td>http://genius.com/A-ap-rocky-back-home-lyrics</td>\n",
       "      <td>\\nGotta find my way back home, I've been away ...</td>\n",
       "      <td>rap</td>\n",
       "    </tr>\n",
       "    <tr>\n",
       "      <th>2</th>\n",
       "      <td>Mos Def</td>\n",
       "      <td>Ms. Fat Booty prod. by Ayatollah</td>\n",
       "      <td>http://genius.com/Yasiin-bey-ms-fat-booty-lyrics</td>\n",
       "      <td>I know I can't afford to stop\\nFor one moment,...</td>\n",
       "      <td>rap</td>\n",
       "    </tr>\n",
       "    <tr>\n",
       "      <th>3</th>\n",
       "      <td>Mos Def</td>\n",
       "      <td>Respiration by Black Star  (Ft. Common) prod. ...</td>\n",
       "      <td>http://genius.com/Black-star-respiration-lyrics</td>\n",
       "      <td>\"What'd you do last night?\"\\n\"We did umm, two ...</td>\n",
       "      <td>rap</td>\n",
       "    </tr>\n",
       "    <tr>\n",
       "      <th>4</th>\n",
       "      <td>Mos Def</td>\n",
       "      <td>Two Words by Kanye West  (Ft. Freeway) prod. b...</td>\n",
       "      <td>http://genius.com/Kanye-west-two-words-lyrics</td>\n",
       "      <td>Half-Hook: Kanye West]\\nNow throw ya hands up ...</td>\n",
       "      <td>rap</td>\n",
       "    </tr>\n",
       "  </tbody>\n",
       "</table>\n",
       "</div>"
      ],
      "text/plain": [
       "    artist                                               song  \\\n",
       "0  Mos Def                    Mathematics prod. by DJ Premier   \n",
       "1  Mos Def  Back Home by A$AP Rocky  (Ft. Acyde & A$AP Yam...   \n",
       "2  Mos Def                   Ms. Fat Booty prod. by Ayatollah   \n",
       "3  Mos Def  Respiration by Black Star  (Ft. Common) prod. ...   \n",
       "4  Mos Def  Two Words by Kanye West  (Ft. Freeway) prod. b...   \n",
       "\n",
       "                                               link  \\\n",
       "0   http://genius.com/Yasiin-bey-mathematics-lyrics   \n",
       "1     http://genius.com/A-ap-rocky-back-home-lyrics   \n",
       "2  http://genius.com/Yasiin-bey-ms-fat-booty-lyrics   \n",
       "3   http://genius.com/Black-star-respiration-lyrics   \n",
       "4     http://genius.com/Kanye-west-two-words-lyrics   \n",
       "\n",
       "                                              lyrics genre  \n",
       "0  Beats by Su-Primo for all of my people, negroe...   rap  \n",
       "1  \\nGotta find my way back home, I've been away ...   rap  \n",
       "2  I know I can't afford to stop\\nFor one moment,...   rap  \n",
       "3  \"What'd you do last night?\"\\n\"We did umm, two ...   rap  \n",
       "4  Half-Hook: Kanye West]\\nNow throw ya hands up ...   rap  "
      ]
     },
     "execution_count": 3,
     "metadata": {},
     "output_type": "execute_result"
    }
   ],
   "source": [
    "df = pd.read_csv('artist_lyrics.csv').drop('Unnamed: 0', axis=1)\n",
    "df.head()"
   ]
  },
  {
   "cell_type": "code",
   "execution_count": null,
   "metadata": {
    "collapsed": false
   },
   "outputs": [],
   "source": [
    "# df.info()"
   ]
  },
  {
   "cell_type": "markdown",
   "metadata": {},
   "source": [
    "### Messing with a song I know well "
   ]
  },
  {
   "cell_type": "code",
   "execution_count": 5,
   "metadata": {
    "collapsed": false
   },
   "outputs": [
    {
     "data": {
      "text/plain": [
       "'Beats by Su-Primo for all of my people, negroes and latinos\\nAnd even the gringos\\n\\n\\nYo, check it\\nOne for Charlie Hustle, 2 for Steady Rock\\n3 for the forthcoming live future shock\\nIt\\'s 5 dimensions, 6 senses\\n7 firmaments of heaven and hell,8 Million Stories to tell\\n9 planets faithfully keep in orbit with the probable tenth\\nThe universe expands length\\nThe body of my text possess extra strength\\nPower-lift the powerless up out of this towering inferno\\nMy ink so hot it burn through the journal\\nI\\'m blacker than midnight on Broadway and Myrtle\\nHip-Hop passed all your tall social hurdles\\nLike the nationwide project-prison-industry complex\\nWorking-class poor: better keep your alarm set\\nStreets too loud to ever hear freedom ring\\nSay evacuate your sleep, it\\'s dangerous to dream\\nFor ch-ching, cats get the \"cha-pow!\" You dead now\\nKilling fields need blood to graze the cash cow\\nIt\\'s a numbers game, but shit don\\'t add up somehow\\nLike I got, 16 to 32 bars to rock it\\nBut only 15% of profits ever see my pockets like\\n69 billion in the last 20 years\\nSpent on national defense but folks still live in fear like\\nNearly half of America\\'s largest cities is one-quarter black\\nThat\\'s why they gave Ricky Ross all the crack\\n16 ounces to a pound, 20 more to a ki\\nA 5-minute sentence hearing and you\\'re no longer free\\n40% of Americans own a cell phone\\nSo they can hear everything that you say when you ain\\'t home\\nI guess Michael Jackson was right: \"You Are Not Alone\"\\nRock your hardhat, black, cause you in the Terrordome\\nFull of hard niggas, large niggas, dice-tumblers\\nYoung teens and prison greens facing life numbers\\nCrack mothers, crack babies and AIDS patients\\nYoung bloods can\\'t spell but they could rock you in PlayStation\\nThis new math is whipping motherfuckers\\' ass\\nYou want to know how to rhyme you better learn how to add\\nIt\\'s mathematics\\n\\n\\n\"The Mighty Mos Def\"\"it\\'s simple mathematics\"\\n\"Check it out\"\"I revolve around science..\"\\n\"What are we talking about here?\"\\n\"Do your math\"\\n\"1, 2, 3, 4\"\\n\"What are we talking about here?\"\\n\\n\\nIt\\'s one universal lawbut 2 sides to every story\\n3 strikes and you be in for life, mandatory\\n4 MC\\'s murdered in the last 4 years\\nI ain\\'t trying to be the fifth one, the millennium is here\\nYo it\\'s 6 Million Ways to Die, from the 7 deadly thrills\\n8-year olds getting found with 9mils\\nIt\\'s 10 P.M., where your seeds at?What\\'s the deal?\\nHe on the hillpumping krillto keep they belly filled\\nLight in the ass with heavy steel, sights on the pretty shit in life\\nYoung soldiers trying to earn their next stripe\\nWhen the average minimum wage is $5.15\\nYou best believe you\\'ve got to find a new grind to get C.R.E.A.M\\nThe white unemployment rate? It\\'s nearly more than triple for black\\nSome front-liners got their gun in your back\\nBubbling crack, jewel theft and robbery to combat poverty\\nAnd end up in the global jail economy\\nStiffer stipulations attached to each sentence\\nBudget cutbacks but increased police presence\\nAnd even if you get out of prison still living\\nJoin the other 5 million under state supervision\\nThis is business: no faces, just lines and statistics\\nFrom your phone, your zip code to S-S-I digits\\nThe system break man, child, and women into figures\\n2 columns for \"who is\" and \"who ain\\'t niggas\"\\nNumbers is hard and real and they never have feelings\\nBut you push too hard, even numbers got limits\\nWhy did one straw break the camel\\'s back?\\nHere\\'s the secret\\nThe million other straws underneath it:it\\'s all mathematics'"
      ]
     },
     "execution_count": 5,
     "metadata": {},
     "output_type": "execute_result"
    }
   ],
   "source": [
    "math = df['lyrics'][0]\n",
    "math"
   ]
  },
  {
   "cell_type": "code",
   "execution_count": 6,
   "metadata": {
    "collapsed": true
   },
   "outputs": [],
   "source": [
    "# making a function to get rid of punctuation, newlines\n",
    "def song_cleaner(song):    \n",
    "    song = song.lower()\n",
    "    clean_song = \"\"\n",
    "    for i, char in enumerate(song):\n",
    "        if char not in string.punctuation:\n",
    "            clean_song += char\n",
    "        else:\n",
    "            clean_song += \" \"\n",
    "    return clean_song.replace('\\n', ' ')"
   ]
  },
  {
   "cell_type": "code",
   "execution_count": 7,
   "metadata": {
    "collapsed": false
   },
   "outputs": [],
   "source": [
    "# making a function to get rid of weird double spaces\n",
    "def double_space_remove(math):\n",
    "    i = 0\n",
    "    while i < len(math)-1:\n",
    "        if (math[i] == ' ') & (math[i+1] == ' '):\n",
    "            math = math[:i] + math[i+1:]\n",
    "            i+=2\n",
    "        else:\n",
    "            i+=1\n",
    "    return math"
   ]
  },
  {
   "cell_type": "code",
   "execution_count": 9,
   "metadata": {
    "collapsed": false
   },
   "outputs": [
    {
     "data": {
      "text/plain": [
       "'beats by su primo for all of my people negroes and latinos and even the gringos yo check it one for charlie hustle 2 for steady rock 3 for the forthcoming live future shock it s 5 dimensions 6 senses 7 firmaments of heaven and hell 8 million stories to tell 9 planets faithfully keep in orbit with the probable tenth the universe expands length the body of my text possess extra strength power lift the powerless up out of this towering inferno my ink so hot it burn through the journal i m blacker than midnight on broadway and myrtle hip hop passed all your tall social hurdles like the nationwide project prison industry complex working class poor better keep your alarm set streets too loud to ever hear freedom ring say evacuate your sleep it s dangerous to dream for ch ching cats get the cha pow you dead now killing fields need blood to graze the cash cow it s a numbers game but shit don t add up somehow like i got 16 to 32 bars to rock it but only 15 of profits ever see my pockets like 69 billion in the last 20 years spent on national defense but folks still live in fear like nearly half of america s largest cities is one quarter black that s why they gave ricky ross all the crack 16 ounces to a pound 20 more to a ki a 5 minute sentence hearing and you re no longer free 40 of americans own a cell phone so they can hear everything that you say when you ain t home i guess michael jackson was right you are not alone rock your hardhat black cause you in the terrordome full of hard niggas large niggas dice tumblers young teens and prison greens facing life numbers crack mothers crack babies and aids patients young bloods can t spell but they could rock you in playstation this new math is whipping motherfuckers ass you want to know how to rhyme you better learn how to add it s mathematics the mighty mos def it s simple mathematics check it out i revolve around science what are we talking about here do your math 1 2 3 4 what are we talking about here it s one universal lawbut 2 sides to every story 3 strikes and you be in for life mandatory 4 mc s murdered in the last 4 years i ain t trying to be the fifth one the millennium is here yo it s 6 million ways to die from the 7 deadly thrills 8 year olds getting found with 9mils it s 10 p m where your seeds at what s the deal he on the hillpumping krillto keep they belly filled light in the ass with heavy steel sights on the pretty shit in life young soldiers trying to earn their next stripe when the average minimum wage is 5 15 you best believe you ve got to find a new grind to get c r e a m the white unemployment rate it s nearly more than triple for black some front liners got their gun in your back bubbling crack jewel theft and robbery to combat poverty and end up in the global jail economy stiffer stipulations attached to each sentence budget cutbacks but increased police presence and even if you get out of prison still living join the other 5 million under state supervision this is business no faces just lines and statistics from your phone your zip code to s s i digits the system break man child and women into figures 2 columns for who is and who ain t niggas numbers is hard and real and they never have feelings but you push too hard even numbers got limits why did one straw break the camel s back here s the secret the million other straws underneath it it s all mathematics'"
      ]
     },
     "execution_count": 9,
     "metadata": {},
     "output_type": "execute_result"
    }
   ],
   "source": [
    "# example of \"cleaned\" song \n",
    "\" \".join(song_cleaner(double_space_remove(math)).split())"
   ]
  },
  {
   "cell_type": "code",
   "execution_count": 10,
   "metadata": {
    "collapsed": false
   },
   "outputs": [],
   "source": [
    "# checking to see if songs are NaN's \n",
    "\n",
    "drops = []\n",
    "for i, song in enumerate(df['lyrics']):\n",
    "    if type(song) != str:\n",
    "        drops.append(i)"
   ]
  },
  {
   "cell_type": "code",
   "execution_count": 12,
   "metadata": {
    "collapsed": false
   },
   "outputs": [
    {
     "data": {
      "text/plain": [
       "25     NaN\n",
       "335    NaN\n",
       "338    NaN\n",
       "368    NaN\n",
       "429    NaN\n",
       "520    NaN\n",
       "522    NaN\n",
       "Name: lyrics, dtype: object"
      ]
     },
     "execution_count": 12,
     "metadata": {},
     "output_type": "execute_result"
    }
   ],
   "source": [
    "# they're all NaNs\n",
    "df['lyrics'][drops]"
   ]
  },
  {
   "cell_type": "code",
   "execution_count": 13,
   "metadata": {
    "collapsed": false
   },
   "outputs": [],
   "source": [
    "df = df.drop(drops)"
   ]
  },
  {
   "cell_type": "code",
   "execution_count": 14,
   "metadata": {
    "collapsed": false
   },
   "outputs": [
    {
     "name": "stdout",
     "output_type": "stream",
     "text": [
      "(533, 5)\n",
      "(533,)\n"
     ]
    }
   ],
   "source": [
    "print df.shape\n",
    "print df['lyrics'].shape"
   ]
  },
  {
   "cell_type": "code",
   "execution_count": 15,
   "metadata": {
    "collapsed": false
   },
   "outputs": [
    {
     "data": {
      "text/html": [
       "<div>\n",
       "<table border=\"1\" class=\"dataframe\">\n",
       "  <thead>\n",
       "    <tr style=\"text-align: right;\">\n",
       "      <th></th>\n",
       "      <th>artist</th>\n",
       "      <th>song</th>\n",
       "      <th>link</th>\n",
       "      <th>lyrics</th>\n",
       "      <th>genre</th>\n",
       "    </tr>\n",
       "  </thead>\n",
       "  <tbody>\n",
       "    <tr>\n",
       "      <th>0</th>\n",
       "      <td>Mos Def</td>\n",
       "      <td>Mathematics prod. by DJ Premier</td>\n",
       "      <td>http://genius.com/Yasiin-bey-mathematics-lyrics</td>\n",
       "      <td>Beats by Su-Primo for all of my people, negroe...</td>\n",
       "      <td>rap</td>\n",
       "    </tr>\n",
       "    <tr>\n",
       "      <th>1</th>\n",
       "      <td>Mos Def</td>\n",
       "      <td>Back Home by A$AP Rocky  (Ft. Acyde &amp; A$AP Yam...</td>\n",
       "      <td>http://genius.com/A-ap-rocky-back-home-lyrics</td>\n",
       "      <td>\\nGotta find my way back home, I've been away ...</td>\n",
       "      <td>rap</td>\n",
       "    </tr>\n",
       "    <tr>\n",
       "      <th>2</th>\n",
       "      <td>Mos Def</td>\n",
       "      <td>Ms. Fat Booty prod. by Ayatollah</td>\n",
       "      <td>http://genius.com/Yasiin-bey-ms-fat-booty-lyrics</td>\n",
       "      <td>I know I can't afford to stop\\nFor one moment,...</td>\n",
       "      <td>rap</td>\n",
       "    </tr>\n",
       "    <tr>\n",
       "      <th>3</th>\n",
       "      <td>Mos Def</td>\n",
       "      <td>Respiration by Black Star  (Ft. Common) prod. ...</td>\n",
       "      <td>http://genius.com/Black-star-respiration-lyrics</td>\n",
       "      <td>\"What'd you do last night?\"\\n\"We did umm, two ...</td>\n",
       "      <td>rap</td>\n",
       "    </tr>\n",
       "    <tr>\n",
       "      <th>4</th>\n",
       "      <td>Mos Def</td>\n",
       "      <td>Two Words by Kanye West  (Ft. Freeway) prod. b...</td>\n",
       "      <td>http://genius.com/Kanye-west-two-words-lyrics</td>\n",
       "      <td>Half-Hook: Kanye West]\\nNow throw ya hands up ...</td>\n",
       "      <td>rap</td>\n",
       "    </tr>\n",
       "  </tbody>\n",
       "</table>\n",
       "</div>"
      ],
      "text/plain": [
       "    artist                                               song  \\\n",
       "0  Mos Def                    Mathematics prod. by DJ Premier   \n",
       "1  Mos Def  Back Home by A$AP Rocky  (Ft. Acyde & A$AP Yam...   \n",
       "2  Mos Def                   Ms. Fat Booty prod. by Ayatollah   \n",
       "3  Mos Def  Respiration by Black Star  (Ft. Common) prod. ...   \n",
       "4  Mos Def  Two Words by Kanye West  (Ft. Freeway) prod. b...   \n",
       "\n",
       "                                               link  \\\n",
       "0   http://genius.com/Yasiin-bey-mathematics-lyrics   \n",
       "1     http://genius.com/A-ap-rocky-back-home-lyrics   \n",
       "2  http://genius.com/Yasiin-bey-ms-fat-booty-lyrics   \n",
       "3   http://genius.com/Black-star-respiration-lyrics   \n",
       "4     http://genius.com/Kanye-west-two-words-lyrics   \n",
       "\n",
       "                                              lyrics genre  \n",
       "0  Beats by Su-Primo for all of my people, negroe...   rap  \n",
       "1  \\nGotta find my way back home, I've been away ...   rap  \n",
       "2  I know I can't afford to stop\\nFor one moment,...   rap  \n",
       "3  \"What'd you do last night?\"\\n\"We did umm, two ...   rap  \n",
       "4  Half-Hook: Kanye West]\\nNow throw ya hands up ...   rap  "
      ]
     },
     "execution_count": 15,
     "metadata": {},
     "output_type": "execute_result"
    }
   ],
   "source": [
    "df.head()"
   ]
  },
  {
   "cell_type": "code",
   "execution_count": null,
   "metadata": {
    "collapsed": false
   },
   "outputs": [],
   "source": [
    "df.info()"
   ]
  },
  {
   "cell_type": "code",
   "execution_count": 64,
   "metadata": {
    "collapsed": false
   },
   "outputs": [],
   "source": [
    "# figuring out which songs can't be correctly encoded to unicode\n",
    "# for some reason running this over and over, the list gets shorter and shorter !?!?!?\n",
    "trouble_songs = []\n",
    "for i, song in enumerate(df['lyrics']):\n",
    "    try:\n",
    "        df['lyrics'][i] = unicode(song)\n",
    "    except:\n",
    "        trouble_songs.append(i)"
   ]
  },
  {
   "cell_type": "code",
   "execution_count": 65,
   "metadata": {
    "collapsed": false
   },
   "outputs": [
    {
     "name": "stdout",
     "output_type": "stream",
     "text": [
      "[8, 27, 28, 31, 32, 35, 37, 43, 49, 54, 57, 59, 63, 73, 74, 76, 81, 84, 87, 88, 89, 90, 91, 92, 96, 97, 99, 102, 105, 106, 107, 108, 110, 120, 128, 129, 135, 136, 137, 139, 140, 144, 150, 161, 165, 166, 172, 182, 187, 189, 193, 194, 200, 205, 206, 209, 211, 215, 218, 219, 220, 222, 225, 228, 229, 230, 233, 235, 236, 238, 239, 240, 248, 249, 251, 253, 259, 260, 263, 264, 266, 269, 273, 274, 276, 284, 289, 296, 305, 383, 392, 396, 400, 406, 408, 415, 419, 420, 421, 435, 438, 440, 444, 452, 459, 464, 466, 468, 469, 471, 473, 478, 490, 492, 496, 503, 504, 515, 519, 521, 527, 534, 537]\n"
     ]
    }
   ],
   "source": [
    "print trouble_songs"
   ]
  },
  {
   "cell_type": "code",
   "execution_count": 34,
   "metadata": {
    "collapsed": false,
    "scrolled": true
   },
   "outputs": [
    {
     "name": "stdout",
     "output_type": "stream",
     "text": [
      "Mos Def --- hoéy\n",
      "\n",
      "Mos Def --- SUV’s,red\n",
      "\n"
     ]
    }
   ],
   "source": [
    "for i, song in enumerate(df['lyrics'][trouble_songs]):\n",
    "    for word in song.split():\n",
    "        try:\n",
    "            unicode(word)\n",
    "        except:\n",
    "            print df['artist'][trouble_songs[i]], '---', word\n",
    "            print"
   ]
  },
  {
   "cell_type": "code",
   "execution_count": 35,
   "metadata": {
    "collapsed": false,
    "scrolled": true
   },
   "outputs": [
    {
     "name": "stdout",
     "output_type": "stream",
     "text": [
      "<type 'str'>\n",
      "Uh huh uh huh uh huh\n",
      "Oh this takes me home\n",
      "It makes me think about sitting outside of my old home when I was younger and singing something like\n",
      "\n",
      "(K'Naan in Somali)\n",
      "Gabaryaray shuxaano\n",
      "Maro Shabeel eh xirato\n",
      "Maro qafiif eh huwato\n",
      "Magacaaga ii sheeg\n",
      "Magacayga waa Sharaf\n",
      "Sharaf, Xaaji weyaan\n",
      "Aqalada xiriirta\n",
      "Dhinac baa ka jooga\n",
      "Ala yaa usheega?\n",
      "Tinta ushaleeya?\n",
      "Naa hoéy Zamzamey\n",
      "Sabaax nuurey\n",
      "Adoo kilkiley\n",
      "Iyo\n",
      "Kaloon badanay\n",
      "Adoo xajka jira\n",
      "Xasuus badhanay!\n",
      "Saxiibtaa\n",
      "Caasho, cashaq baa dhilay\n",
      "Ugu dhambaystina\n",
      "Aniga iyo geel uba\n",
      "Ugu banaan bixin\n",
      "Waa aniga orodneey\n",
      "Nabad dheynee\n",
      "Mareekan waa laga soo waayey\n",
      "Mareekan waa laga soo waayey\n",
      "Mareekan waa laga soo waayey\n",
      "\n",
      "\n",
      "\n",
      "There are certain things fresh and certain things mish\n",
      "I got my own sound I don't sound like the rest\n",
      "And even my attire and my choice of dress\n",
      "And not long ago I don't spoke English\n",
      "My point is police pull me over a lot\n",
      "They wonder what kind of rap sheet I got\n",
      "And sometimes I take a young girl out to eat\n",
      "And hold the door open, \"Oh, you're so sweet!\"\n",
      "Of course my affection's super illustrated\n",
      "And I like to give don't reciprocate it\n",
      "Unless you could give me someone innovated\n",
      "Well lets cook it up we dont refrigerate it\n",
      "But back to the country of the educated\n",
      "Where people get robbed and they celebrate it\n",
      "\n",
      "Waa aniga orodneey\n",
      "Nabad dheynee!\n",
      "Mareekan waa laga soo waayey\n",
      "Mareekan waa laga soo waayey\n",
      "Mareekan waa laga soo waayey\n",
      "\n",
      "\n",
      "\n",
      "Maraken,my country 'tis of thee\n",
      "Sweet land for robberies\n",
      "Dope smokeand SUV’s,red meat and army greens\n",
      "Fat and frills, thrills and spills\n",
      "Eat and sleep, hump and kill\n",
      "Shop til you drop,work til you dead\n",
      "Get all you can, then get in the wind\n",
      "Outta my face on your knees\n",
      "Sleep in the mansion, shut out the streets\n",
      "Make that cake, whoop that trick\n",
      "Lick my swagger suck my sick\n",
      "Get high get low get stcky get rich\n",
      "Get yo own showget down get quick\n",
      "You slow you blow you broke your fix\n",
      "Terror dome, home swag home\n",
      "Terror dome, home swag home\n",
      "Home swag home, home swag home\n",
      "\n",
      "(Somalian(America))\n",
      "\n",
      "\n",
      "There are some things pure while certain things blur\n",
      "Dilute it with the lie and you believe when it occur\n",
      "Falsified information got my people in the stir\n",
      "We have to be in search of something equal to the cure\n",
      "Straight out the door, I come to give you more\n",
      "Lay the law keep it raw, when I speak it from the core\n",
      "Get underneath your skin like especially with the claw\n",
      "Conflicted with the rich cuz I kick it with the poor\n",
      "I laugh in the face of adversity\n",
      "Sound clashed with the bass cuz its natural to me\n",
      "But if you pay attention to the past you will see\n",
      "Not long ago you black they'd hang your ass from a tree\n",
      "Certain things things change, while some stay the same\n",
      "Some are recluse others are lovers of the game\n",
      "I'm trying to walk the lane, the Sirat al-Mustaqim\n",
      "Instead of doing things they keep you covered in the flame\n",
      "\n",
      "(Somali)\n",
      "Nanananana that shit was cool in English, but let me get that Somali verse\n",
      "(Somali)\n",
      "\n",
      "(Somali until fade out)\n",
      "\n"
     ]
    }
   ],
   "source": [
    "for song in trouble_songs:\n",
    "    print type(df['lyrics'][song])\n",
    "    print df['lyrics'][song]\n",
    "    print"
   ]
  },
  {
   "cell_type": "code",
   "execution_count": null,
   "metadata": {
    "collapsed": false
   },
   "outputs": [],
   "source": [
    "# weird windows encoding\n",
    "# not sure this is relevant\n",
    "ftfy.guess_bytes('I\\xe2\\u20ac\\u2122m')"
   ]
  },
  {
   "cell_type": "markdown",
   "metadata": {},
   "source": [
    "### Going to try some different models here"
   ]
  },
  {
   "cell_type": "code",
   "execution_count": 36,
   "metadata": {
    "collapsed": false
   },
   "outputs": [],
   "source": [
    "sws = stop_words.ENGLISH_STOP_WORDS"
   ]
  },
  {
   "cell_type": "code",
   "execution_count": 41,
   "metadata": {
    "collapsed": false
   },
   "outputs": [],
   "source": [
    "cv = CountVectorizer(binary=True, stop_words=sws)\n",
    "tfidf = TfidfVectorizer(stop_words=sws)"
   ]
  },
  {
   "cell_type": "code",
   "execution_count": 42,
   "metadata": {
    "collapsed": true
   },
   "outputs": [],
   "source": [
    "d = cv.fit_transform(df['lyrics'])\n",
    "td = tfidf.fit_transform(df['lyrics'])"
   ]
  },
  {
   "cell_type": "code",
   "execution_count": 43,
   "metadata": {
    "collapsed": false
   },
   "outputs": [
    {
     "data": {
      "text/plain": [
       "(540,)"
      ]
     },
     "execution_count": 43,
     "metadata": {},
     "output_type": "execute_result"
    }
   ],
   "source": [
    "# how is this possible?\n",
    "# its somehow regaining the dropped rows?\n",
    "df['lyrics'].shape"
   ]
  },
  {
   "cell_type": "code",
   "execution_count": 44,
   "metadata": {
    "collapsed": false
   },
   "outputs": [
    {
     "name": "stdout",
     "output_type": "stream",
     "text": [
      "<class 'pandas.core.frame.DataFrame'>\n",
      "Int64Index: 533 entries, 0 to 539\n",
      "Data columns (total 5 columns):\n",
      "artist    533 non-null object\n",
      "song      533 non-null object\n",
      "link      533 non-null object\n",
      "lyrics    533 non-null object\n",
      "genre     533 non-null object\n",
      "dtypes: object(5)\n",
      "memory usage: 25.0+ KB\n"
     ]
    }
   ],
   "source": [
    "df.info()"
   ]
  },
  {
   "cell_type": "code",
   "execution_count": 49,
   "metadata": {
    "collapsed": false
   },
   "outputs": [
    {
     "name": "stdout",
     "output_type": "stream",
     "text": [
      "(533, 5)\n",
      "(540,)\n",
      "(533,)\n"
     ]
    }
   ],
   "source": [
    "print df.shape\n",
    "print df['lyrics'].shape\n",
    "print df['genre'].shape"
   ]
  },
  {
   "cell_type": "code",
   "execution_count": 46,
   "metadata": {
    "collapsed": false
   },
   "outputs": [],
   "source": [
    "df2 = pd.DataFrame(d.todense(), columns=cv.get_feature_names())"
   ]
  },
  {
   "cell_type": "code",
   "execution_count": 47,
   "metadata": {
    "collapsed": false,
    "scrolled": true
   },
   "outputs": [
    {
     "data": {
      "text/html": [
       "<div>\n",
       "<table border=\"1\" class=\"dataframe\">\n",
       "  <thead>\n",
       "    <tr style=\"text-align: right;\">\n",
       "      <th></th>\n",
       "      <th>000</th>\n",
       "      <th>02</th>\n",
       "      <th>03</th>\n",
       "      <th>10</th>\n",
       "      <th>100</th>\n",
       "      <th>100k</th>\n",
       "      <th>103</th>\n",
       "      <th>106</th>\n",
       "      <th>10x</th>\n",
       "      <th>11</th>\n",
       "      <th>...</th>\n",
       "      <th>zone</th>\n",
       "      <th>zones</th>\n",
       "      <th>zonin</th>\n",
       "      <th>zoning</th>\n",
       "      <th>zoo</th>\n",
       "      <th>zoogang</th>\n",
       "      <th>zoom</th>\n",
       "      <th>zorro</th>\n",
       "      <th>zuckerbergs</th>\n",
       "      <th>zulu</th>\n",
       "    </tr>\n",
       "  </thead>\n",
       "  <tbody>\n",
       "    <tr>\n",
       "      <th>0</th>\n",
       "      <td>0</td>\n",
       "      <td>0</td>\n",
       "      <td>0</td>\n",
       "      <td>1</td>\n",
       "      <td>0</td>\n",
       "      <td>0</td>\n",
       "      <td>0</td>\n",
       "      <td>0</td>\n",
       "      <td>0</td>\n",
       "      <td>0</td>\n",
       "      <td>...</td>\n",
       "      <td>0</td>\n",
       "      <td>0</td>\n",
       "      <td>0</td>\n",
       "      <td>0</td>\n",
       "      <td>0</td>\n",
       "      <td>0</td>\n",
       "      <td>0</td>\n",
       "      <td>0</td>\n",
       "      <td>0</td>\n",
       "      <td>0</td>\n",
       "    </tr>\n",
       "    <tr>\n",
       "      <th>1</th>\n",
       "      <td>0</td>\n",
       "      <td>0</td>\n",
       "      <td>0</td>\n",
       "      <td>0</td>\n",
       "      <td>0</td>\n",
       "      <td>0</td>\n",
       "      <td>0</td>\n",
       "      <td>0</td>\n",
       "      <td>0</td>\n",
       "      <td>0</td>\n",
       "      <td>...</td>\n",
       "      <td>0</td>\n",
       "      <td>0</td>\n",
       "      <td>0</td>\n",
       "      <td>0</td>\n",
       "      <td>0</td>\n",
       "      <td>0</td>\n",
       "      <td>0</td>\n",
       "      <td>0</td>\n",
       "      <td>0</td>\n",
       "      <td>0</td>\n",
       "    </tr>\n",
       "    <tr>\n",
       "      <th>2</th>\n",
       "      <td>0</td>\n",
       "      <td>0</td>\n",
       "      <td>0</td>\n",
       "      <td>0</td>\n",
       "      <td>0</td>\n",
       "      <td>0</td>\n",
       "      <td>0</td>\n",
       "      <td>0</td>\n",
       "      <td>0</td>\n",
       "      <td>0</td>\n",
       "      <td>...</td>\n",
       "      <td>0</td>\n",
       "      <td>0</td>\n",
       "      <td>0</td>\n",
       "      <td>0</td>\n",
       "      <td>0</td>\n",
       "      <td>0</td>\n",
       "      <td>0</td>\n",
       "      <td>0</td>\n",
       "      <td>0</td>\n",
       "      <td>0</td>\n",
       "    </tr>\n",
       "    <tr>\n",
       "      <th>3</th>\n",
       "      <td>0</td>\n",
       "      <td>0</td>\n",
       "      <td>0</td>\n",
       "      <td>0</td>\n",
       "      <td>0</td>\n",
       "      <td>0</td>\n",
       "      <td>0</td>\n",
       "      <td>0</td>\n",
       "      <td>0</td>\n",
       "      <td>0</td>\n",
       "      <td>...</td>\n",
       "      <td>0</td>\n",
       "      <td>0</td>\n",
       "      <td>0</td>\n",
       "      <td>0</td>\n",
       "      <td>0</td>\n",
       "      <td>0</td>\n",
       "      <td>0</td>\n",
       "      <td>0</td>\n",
       "      <td>0</td>\n",
       "      <td>0</td>\n",
       "    </tr>\n",
       "    <tr>\n",
       "      <th>4</th>\n",
       "      <td>0</td>\n",
       "      <td>0</td>\n",
       "      <td>0</td>\n",
       "      <td>0</td>\n",
       "      <td>0</td>\n",
       "      <td>0</td>\n",
       "      <td>0</td>\n",
       "      <td>0</td>\n",
       "      <td>0</td>\n",
       "      <td>0</td>\n",
       "      <td>...</td>\n",
       "      <td>0</td>\n",
       "      <td>0</td>\n",
       "      <td>0</td>\n",
       "      <td>0</td>\n",
       "      <td>0</td>\n",
       "      <td>0</td>\n",
       "      <td>0</td>\n",
       "      <td>0</td>\n",
       "      <td>0</td>\n",
       "      <td>0</td>\n",
       "    </tr>\n",
       "  </tbody>\n",
       "</table>\n",
       "<p>5 rows × 10898 columns</p>\n",
       "</div>"
      ],
      "text/plain": [
       "   000  02  03  10  100  100k  103  106  10x  11  ...   zone  zones  zonin  \\\n",
       "0    0   0   0   1    0     0    0    0    0   0  ...      0      0      0   \n",
       "1    0   0   0   0    0     0    0    0    0   0  ...      0      0      0   \n",
       "2    0   0   0   0    0     0    0    0    0   0  ...      0      0      0   \n",
       "3    0   0   0   0    0     0    0    0    0   0  ...      0      0      0   \n",
       "4    0   0   0   0    0     0    0    0    0   0  ...      0      0      0   \n",
       "\n",
       "   zoning  zoo  zoogang  zoom  zorro  zuckerbergs  zulu  \n",
       "0       0    0        0     0      0            0     0  \n",
       "1       0    0        0     0      0            0     0  \n",
       "2       0    0        0     0      0            0     0  \n",
       "3       0    0        0     0      0            0     0  \n",
       "4       0    0        0     0      0            0     0  \n",
       "\n",
       "[5 rows x 10898 columns]"
      ]
     },
     "execution_count": 47,
     "metadata": {},
     "output_type": "execute_result"
    }
   ],
   "source": [
    "df2.head()"
   ]
  },
  {
   "cell_type": "code",
   "execution_count": 48,
   "metadata": {
    "collapsed": false
   },
   "outputs": [
    {
     "name": "stdout",
     "output_type": "stream",
     "text": [
      "<class 'pandas.core.frame.DataFrame'>\n",
      "Int64Index: 540 entries, 0 to 539\n",
      "Columns: 10898 entries, 000 to zulu\n",
      "dtypes: int64(10898)\n",
      "memory usage: 44.9 MB\n"
     ]
    }
   ],
   "source": [
    "df2.info()"
   ]
  },
  {
   "cell_type": "code",
   "execution_count": 68,
   "metadata": {
    "collapsed": false
   },
   "outputs": [],
   "source": [
    "bnb = BernoulliNB()\n",
    "mnb = MultinomialNB()\n",
    "gnb = GaussianNB()"
   ]
  },
  {
   "cell_type": "code",
   "execution_count": 66,
   "metadata": {
    "collapsed": false
   },
   "outputs": [],
   "source": [
    "X_train, X_test, y_train, y_test = train_test_split(d.todense(), df['genre'])"
   ]
  },
  {
   "cell_type": "code",
   "execution_count": 69,
   "metadata": {
    "collapsed": false
   },
   "outputs": [
    {
     "data": {
      "text/plain": [
       "BernoulliNB(alpha=1.0, binarize=0.0, class_prior=None, fit_prior=True)"
      ]
     },
     "execution_count": 69,
     "metadata": {},
     "output_type": "execute_result"
    }
   ],
   "source": [
    "bnb.fit(X_train, y_train)"
   ]
  },
  {
   "cell_type": "code",
   "execution_count": 70,
   "metadata": {
    "collapsed": false
   },
   "outputs": [
    {
     "data": {
      "text/plain": [
       "0.88888888888888884"
      ]
     },
     "execution_count": 70,
     "metadata": {},
     "output_type": "execute_result"
    }
   ],
   "source": [
    "# already got a ~90% accurate model\n",
    "# try CV now\n",
    "bnb.score(X_test, y_test)"
   ]
  },
  {
   "cell_type": "code",
   "execution_count": 71,
   "metadata": {
    "collapsed": false
   },
   "outputs": [
    {
     "name": "stdout",
     "output_type": "stream",
     "text": [
      "0.844444444444\n"
     ]
    }
   ],
   "source": [
    "# cross-val scores\n",
    "print cross_val_score(bnb, d.todense(), df['genre'], cv=10).mean()"
   ]
  },
  {
   "cell_type": "code",
   "execution_count": 72,
   "metadata": {
    "collapsed": false
   },
   "outputs": [
    {
     "name": "stdout",
     "output_type": "stream",
     "text": [
      "BernoulliNB(alpha=1.0, binarize=0.0, class_prior=None, fit_prior=True)\n",
      "0.844444444444\n",
      "MultinomialNB(alpha=1.0, class_prior=None, fit_prior=True)\n",
      "0.818518518519\n",
      "GaussianNB()\n",
      "0.674074074074\n"
     ]
    }
   ],
   "source": [
    "for model in [bnb, mnb, gnb]:\n",
    "    print model\n",
    "    print cross_val_score(model, d.todense(), df['genre'], cv=10).mean()"
   ]
  },
  {
   "cell_type": "code",
   "execution_count": null,
   "metadata": {
    "collapsed": true
   },
   "outputs": [],
   "source": [
    "# adding stop words actually lowers accuracy by ~5%"
   ]
  },
  {
   "cell_type": "code",
   "execution_count": null,
   "metadata": {
    "collapsed": true
   },
   "outputs": [],
   "source": [
    "# now think about stemming, removing stop words, mojibake, tf-idf\n",
    "# cram into decision tree to get the most important features\n",
    "# etc"
   ]
  },
  {
   "cell_type": "code",
   "execution_count": 100,
   "metadata": {
    "collapsed": false
   },
   "outputs": [],
   "source": [
    "def print_importants(model, top=10):\n",
    "    importances = model.feature_importances_\n",
    "    indices = np.argsort(importances)[::-1]\n",
    "    important_words = df2.columns[indices]\n",
    "    print important_words[:top]"
   ]
  },
  {
   "cell_type": "code",
   "execution_count": 77,
   "metadata": {
    "collapsed": true
   },
   "outputs": [],
   "source": [
    "X = d.todense()\n",
    "y = df['genre']"
   ]
  },
  {
   "cell_type": "code",
   "execution_count": 92,
   "metadata": {
    "collapsed": false
   },
   "outputs": [],
   "source": [
    "y = [1 if v=='rap' else 0 for v in df['genre']]"
   ]
  },
  {
   "cell_type": "markdown",
   "metadata": {},
   "source": [
    "### Messing with some ExtremeTrees"
   ]
  },
  {
   "cell_type": "code",
   "execution_count": 73,
   "metadata": {
    "collapsed": true
   },
   "outputs": [],
   "source": [
    "erf = ExtraTreesClassifier(n_estimators=250, random_state=0)"
   ]
  },
  {
   "cell_type": "code",
   "execution_count": 102,
   "metadata": {
    "collapsed": false
   },
   "outputs": [
    {
     "name": "stdout",
     "output_type": "stream",
     "text": [
      "Index([u'niggas', u'shit', u'nigga', u'ain', u'yo', u'fuck', u'em', u'ya',\n",
      "       u'gon', u'gotta'],\n",
      "      dtype='object')\n"
     ]
    }
   ],
   "source": [
    "print_importants(erf)"
   ]
  },
  {
   "cell_type": "code",
   "execution_count": 82,
   "metadata": {
    "collapsed": false
   },
   "outputs": [
    {
     "name": "stdout",
     "output_type": "stream",
     "text": [
      "0.894444444444\n"
     ]
    }
   ],
   "source": [
    "# Extreme Trees RF does better than NB --- expected result\n",
    "print cross_val_score(erf, X, y, cv=10).mean()"
   ]
  },
  {
   "cell_type": "markdown",
   "metadata": {},
   "source": [
    "### Trying with a plain RandomForest"
   ]
  },
  {
   "cell_type": "code",
   "execution_count": 103,
   "metadata": {
    "collapsed": false
   },
   "outputs": [],
   "source": [
    "rf = RandomForestClassifier()"
   ]
  },
  {
   "cell_type": "code",
   "execution_count": 104,
   "metadata": {
    "collapsed": false
   },
   "outputs": [
    {
     "name": "stdout",
     "output_type": "stream",
     "text": [
      "0.864814814815\n"
     ]
    }
   ],
   "source": [
    "print cross_val_score(rf, X, y, cv=10).mean()"
   ]
  },
  {
   "cell_type": "code",
   "execution_count": 101,
   "metadata": {
    "collapsed": false
   },
   "outputs": [
    {
     "name": "stdout",
     "output_type": "stream",
     "text": [
      "Index([u'gotta', u'ya', u'ass', u'ain', u'black', u'fuck', u'shit', u'hood',\n",
      "       u'man', u'say'],\n",
      "      dtype='object')\n"
     ]
    }
   ],
   "source": [
    "print_importants(rf)"
   ]
  },
  {
   "cell_type": "markdown",
   "metadata": {},
   "source": [
    "### Now try with Gradient Boosting"
   ]
  },
  {
   "cell_type": "code",
   "execution_count": 96,
   "metadata": {
    "collapsed": true
   },
   "outputs": [],
   "source": [
    "gbr = GradientBoostingClassifier()"
   ]
  },
  {
   "cell_type": "code",
   "execution_count": 97,
   "metadata": {
    "collapsed": false
   },
   "outputs": [
    {
     "data": {
      "text/plain": [
       "GradientBoostingClassifier(init=None, learning_rate=0.1, loss='deviance',\n",
       "              max_depth=3, max_features=None, max_leaf_nodes=None,\n",
       "              min_samples_leaf=1, min_samples_split=2,\n",
       "              min_weight_fraction_leaf=0.0, n_estimators=100,\n",
       "              presort='auto', random_state=None, subsample=1.0, verbose=0,\n",
       "              warm_start=False)"
      ]
     },
     "execution_count": 97,
     "metadata": {},
     "output_type": "execute_result"
    }
   ],
   "source": [
    "gbr.fit(X_train, y_train)"
   ]
  },
  {
   "cell_type": "code",
   "execution_count": 98,
   "metadata": {
    "collapsed": false
   },
   "outputs": [
    {
     "data": {
      "text/plain": [
       "0.96296296296296291"
      ]
     },
     "execution_count": 98,
     "metadata": {},
     "output_type": "execute_result"
    }
   ],
   "source": [
    "gbr.score(X_test, y_test)"
   ]
  },
  {
   "cell_type": "code",
   "execution_count": 106,
   "metadata": {
    "collapsed": false
   },
   "outputs": [
    {
     "name": "stdout",
     "output_type": "stream",
     "text": [
      "0.862962962963\n"
     ]
    }
   ],
   "source": [
    "print cross_val_score(gbr, X, y, cv=10, n_jobs=-1).mean()"
   ]
  },
  {
   "cell_type": "markdown",
   "metadata": {},
   "source": [
    "### Next up"
   ]
  },
  {
   "cell_type": "code",
   "execution_count": null,
   "metadata": {
    "collapsed": true
   },
   "outputs": [],
   "source": [
    "# could try doing SVM, might need to grid search parameters\n",
    "# would consider doing non-binary counts for data!"
   ]
  },
  {
   "cell_type": "code",
   "execution_count": null,
   "metadata": {
    "collapsed": true
   },
   "outputs": [],
   "source": []
  }
 ],
 "metadata": {
  "kernelspec": {
   "display_name": "Python 2",
   "language": "python",
   "name": "python2"
  },
  "language_info": {
   "codemirror_mode": {
    "name": "ipython",
    "version": 2
   },
   "file_extension": ".py",
   "mimetype": "text/x-python",
   "name": "python",
   "nbconvert_exporter": "python",
   "pygments_lexer": "ipython2",
   "version": "2.7.10"
  }
 },
 "nbformat": 4,
 "nbformat_minor": 0
}
