{
 "cells": [
  {
   "cell_type": "markdown",
   "metadata": {},
   "source": [
    "# Playing with Vectorizers"
   ]
  },
  {
   "cell_type": "code",
   "execution_count": 1,
   "metadata": {
    "collapsed": true
   },
   "outputs": [],
   "source": [
    "import pandas as pd\n",
    "import ftfy\n",
    "import numpy as np\n",
    "import matplotlib.pyplot as plt\n",
    "import string\n",
    "%matplotlib inline"
   ]
  },
  {
   "cell_type": "code",
   "execution_count": 2,
   "metadata": {
    "collapsed": true
   },
   "outputs": [],
   "source": [
    "from sklearn.feature_extraction.text import CountVectorizer, TfidfVectorizer\n",
    "from sklearn.feature_extraction import stop_words\n",
    "from sklearn.naive_bayes import BernoulliNB, GaussianNB, MultinomialNB\n",
    "from sklearn.cross_validation import train_test_split\n",
    "from sklearn.cross_validation import cross_val_score\n",
    "from sklearn.ensemble import RandomForestClassifier, ExtraTreesClassifier, GradientBoostingClassifier"
   ]
  },
  {
   "cell_type": "code",
   "execution_count": 4,
   "metadata": {
    "collapsed": false
   },
   "outputs": [
    {
     "data": {
      "text/html": [
       "<div>\n",
       "<table border=\"1\" class=\"dataframe\">\n",
       "  <thead>\n",
       "    <tr style=\"text-align: right;\">\n",
       "      <th></th>\n",
       "      <th>artist</th>\n",
       "      <th>song</th>\n",
       "      <th>link</th>\n",
       "      <th>lyrics</th>\n",
       "      <th>genre</th>\n",
       "    </tr>\n",
       "  </thead>\n",
       "  <tbody>\n",
       "    <tr>\n",
       "      <th>0</th>\n",
       "      <td>Mos Def</td>\n",
       "      <td>Mathematics prod. by DJ Premier</td>\n",
       "      <td>http://genius.com/Yasiin-bey-mathematics-lyrics</td>\n",
       "      <td>Beats by Su-Primo for all of my people, negroe...</td>\n",
       "      <td>rap</td>\n",
       "    </tr>\n",
       "    <tr>\n",
       "      <th>1</th>\n",
       "      <td>Mos Def</td>\n",
       "      <td>Back Home by A$AP Rocky  (Ft. Acyde &amp; A$AP Yam...</td>\n",
       "      <td>http://genius.com/A-ap-rocky-back-home-lyrics</td>\n",
       "      <td>\\nGotta find my way back home, I've been away ...</td>\n",
       "      <td>rap</td>\n",
       "    </tr>\n",
       "    <tr>\n",
       "      <th>2</th>\n",
       "      <td>Mos Def</td>\n",
       "      <td>Ms. Fat Booty prod. by Ayatollah</td>\n",
       "      <td>http://genius.com/Yasiin-bey-ms-fat-booty-lyrics</td>\n",
       "      <td>I know I can't afford to stop\\nFor one moment,...</td>\n",
       "      <td>rap</td>\n",
       "    </tr>\n",
       "    <tr>\n",
       "      <th>3</th>\n",
       "      <td>Mos Def</td>\n",
       "      <td>Respiration by Black Star  (Ft. Common) prod. ...</td>\n",
       "      <td>http://genius.com/Black-star-respiration-lyrics</td>\n",
       "      <td>\"What'd you do last night?\"\\n\"We did umm, two ...</td>\n",
       "      <td>rap</td>\n",
       "    </tr>\n",
       "    <tr>\n",
       "      <th>4</th>\n",
       "      <td>Mos Def</td>\n",
       "      <td>Two Words by Kanye West  (Ft. Freeway) prod. b...</td>\n",
       "      <td>http://genius.com/Kanye-west-two-words-lyrics</td>\n",
       "      <td>Half-Hook: Kanye West]\\nNow throw ya hands up ...</td>\n",
       "      <td>rap</td>\n",
       "    </tr>\n",
       "  </tbody>\n",
       "</table>\n",
       "</div>"
      ],
      "text/plain": [
       "    artist                                               song  \\\n",
       "0  Mos Def                    Mathematics prod. by DJ Premier   \n",
       "1  Mos Def  Back Home by A$AP Rocky  (Ft. Acyde & A$AP Yam...   \n",
       "2  Mos Def                   Ms. Fat Booty prod. by Ayatollah   \n",
       "3  Mos Def  Respiration by Black Star  (Ft. Common) prod. ...   \n",
       "4  Mos Def  Two Words by Kanye West  (Ft. Freeway) prod. b...   \n",
       "\n",
       "                                               link  \\\n",
       "0   http://genius.com/Yasiin-bey-mathematics-lyrics   \n",
       "1     http://genius.com/A-ap-rocky-back-home-lyrics   \n",
       "2  http://genius.com/Yasiin-bey-ms-fat-booty-lyrics   \n",
       "3   http://genius.com/Black-star-respiration-lyrics   \n",
       "4     http://genius.com/Kanye-west-two-words-lyrics   \n",
       "\n",
       "                                              lyrics genre  \n",
       "0  Beats by Su-Primo for all of my people, negroe...   rap  \n",
       "1  \\nGotta find my way back home, I've been away ...   rap  \n",
       "2  I know I can't afford to stop\\nFor one moment,...   rap  \n",
       "3  \"What'd you do last night?\"\\n\"We did umm, two ...   rap  \n",
       "4  Half-Hook: Kanye West]\\nNow throw ya hands up ...   rap  "
      ]
     },
     "execution_count": 4,
     "metadata": {},
     "output_type": "execute_result"
    }
   ],
   "source": [
    "raw_data = pd.read_csv('artist_lyrics.csv').drop('Unnamed: 0', axis=1)\n",
    "raw_data.head()"
   ]
  },
  {
   "cell_type": "code",
   "execution_count": 5,
   "metadata": {
    "collapsed": true
   },
   "outputs": [],
   "source": [
    "working_data = raw_data.copy()"
   ]
  },
  {
   "cell_type": "code",
   "execution_count": 6,
   "metadata": {
    "collapsed": false
   },
   "outputs": [
    {
     "data": {
      "text/plain": [
       "(540, 5)"
      ]
     },
     "execution_count": 6,
     "metadata": {},
     "output_type": "execute_result"
    }
   ],
   "source": [
    "working_data.shape"
   ]
  },
  {
   "cell_type": "code",
   "execution_count": 7,
   "metadata": {
    "collapsed": true
   },
   "outputs": [],
   "source": [
    "working_data.dropna(inplace=True)"
   ]
  },
  {
   "cell_type": "code",
   "execution_count": 8,
   "metadata": {
    "collapsed": false
   },
   "outputs": [
    {
     "data": {
      "text/plain": [
       "(533, 5)"
      ]
     },
     "execution_count": 8,
     "metadata": {},
     "output_type": "execute_result"
    }
   ],
   "source": [
    "working_data.shape"
   ]
  },
  {
   "cell_type": "code",
   "execution_count": 12,
   "metadata": {
    "collapsed": false
   },
   "outputs": [],
   "source": [
    "X = working_data.copy()['lyrics']\n",
    "y = [1 if v=='rap' else 0 for v in working_data['genre']]"
   ]
  },
  {
   "cell_type": "code",
   "execution_count": 15,
   "metadata": {
    "collapsed": true
   },
   "outputs": [],
   "source": [
    "def vectorizer_testing(X, y):\n",
    "    vecs = (TfidfVectorizer(), TfidfVectorizer(stop_words=stop_words.ENGLISH_STOP_WORDS),\n",
    "            CountVectorizer(), CountVectorizer(stop_words=stop_words.ENGLISH_STOP_WORDS))\n",
    "    \n",
    "    for vec in vecs:\n",
    "        data = vec.fit_transform(X).todense()\n",
    "        X_train, X_test, y_train, y_test = train_test_split(data, y)\n",
    "        rf = RandomForestClassifier()\n",
    "        nb = BernoulliNB()\n",
    "        rf.fit(X_train, y_train)\n",
    "        nb.fit(X_train, y_train)\n",
    "        print vec\n",
    "        print 'RF:', rf.score(X_test, y_test), 'NB:', nb.score(X_test, y_test)"
   ]
  },
  {
   "cell_type": "code",
   "execution_count": 16,
   "metadata": {
    "collapsed": false
   },
   "outputs": [
    {
     "name": "stdout",
     "output_type": "stream",
     "text": [
      "TfidfVectorizer(analyzer=u'word', binary=False, decode_error=u'strict',\n",
      "        dtype=<type 'numpy.int64'>, encoding=u'utf-8', input=u'content',\n",
      "        lowercase=True, max_df=1.0, max_features=None, min_df=1,\n",
      "        ngram_range=(1, 1), norm=u'l2', preprocessor=None, smooth_idf=True,\n",
      "        stop_words=None, strip_accents=None, sublinear_tf=False,\n",
      "        token_pattern=u'(?u)\\\\b\\\\w\\\\w+\\\\b', tokenizer=None, use_idf=True,\n",
      "        vocabulary=None)\n",
      "RF: 0.858208955224 NB: 0.888059701493\n",
      "TfidfVectorizer(analyzer=u'word', binary=False, decode_error=u'strict',\n",
      "        dtype=<type 'numpy.int64'>, encoding=u'utf-8', input=u'content',\n",
      "        lowercase=True, max_df=1.0, max_features=None, min_df=1,\n",
      "        ngram_range=(1, 1), norm=u'l2', preprocessor=None, smooth_idf=True,\n",
      "        stop_words=frozenset(['all', 'six', 'less', 'being', 'indeed', 'over', 'move', 'anyway', 'four', 'not', 'own', 'through', 'yourselves', 'fify', 'where', 'mill', 'only', 'find', 'before', 'one', 'whose', 'system', 'how', 'somewhere', 'with', 'thick', 'show', 'had', 'enough', 'should', 'to', 'must', '...'amoungst', 'yours', 'their', 'rather', 'without', 'so', 'five', 'the', 'first', 'whereas', 'once']),\n",
      "        strip_accents=None, sublinear_tf=False,\n",
      "        token_pattern=u'(?u)\\\\b\\\\w\\\\w+\\\\b', tokenizer=None, use_idf=True,\n",
      "        vocabulary=None)\n",
      "RF: 0.910447761194 NB: 0.835820895522\n",
      "CountVectorizer(analyzer=u'word', binary=False, decode_error=u'strict',\n",
      "        dtype=<type 'numpy.int64'>, encoding=u'utf-8', input=u'content',\n",
      "        lowercase=True, max_df=1.0, max_features=None, min_df=1,\n",
      "        ngram_range=(1, 1), preprocessor=None, stop_words=None,\n",
      "        strip_accents=None, token_pattern=u'(?u)\\\\b\\\\w\\\\w+\\\\b',\n",
      "        tokenizer=None, vocabulary=None)\n",
      "RF: 0.865671641791 NB: 0.835820895522\n",
      "CountVectorizer(analyzer=u'word', binary=False, decode_error=u'strict',\n",
      "        dtype=<type 'numpy.int64'>, encoding=u'utf-8', input=u'content',\n",
      "        lowercase=True, max_df=1.0, max_features=None, min_df=1,\n",
      "        ngram_range=(1, 1), preprocessor=None,\n",
      "        stop_words=frozenset(['all', 'six', 'less', 'being', 'indeed', 'over', 'move', 'anyway', 'four', 'not', 'own', 'through', 'yourselves', 'fify', 'where', 'mill', 'only', 'find', 'before', 'one', 'whose', 'system', 'how', 'somewhere', 'with', 'thick', 'show', 'had', 'enough', 'should', 'to', 'must', '...'amoungst', 'yours', 'their', 'rather', 'without', 'so', 'five', 'the', 'first', 'whereas', 'once']),\n",
      "        strip_accents=None, token_pattern=u'(?u)\\\\b\\\\w\\\\w+\\\\b',\n",
      "        tokenizer=None, vocabulary=None)\n",
      "RF: 0.888059701493 NB: 0.865671641791\n"
     ]
    }
   ],
   "source": [
    "vectorizer_testing(X, y)"
   ]
  },
  {
   "cell_type": "markdown",
   "metadata": {},
   "source": [
    "### Looks like the best way to do this is with a TFIDF Vectorizer, with Stop Word removal"
   ]
  },
  {
   "cell_type": "code",
   "execution_count": null,
   "metadata": {
    "collapsed": true
   },
   "outputs": [],
   "source": [
    "rf."
   ]
  }
 ],
 "metadata": {
  "kernelspec": {
   "display_name": "Python 2",
   "language": "python",
   "name": "python2"
  },
  "language_info": {
   "codemirror_mode": {
    "name": "ipython",
    "version": 2
   },
   "file_extension": ".py",
   "mimetype": "text/x-python",
   "name": "python",
   "nbconvert_exporter": "python",
   "pygments_lexer": "ipython2",
   "version": "2.7.10"
  }
 },
 "nbformat": 4,
 "nbformat_minor": 0
}
