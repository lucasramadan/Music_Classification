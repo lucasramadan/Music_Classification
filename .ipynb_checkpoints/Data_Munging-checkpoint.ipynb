{
 "cells": [
  {
   "cell_type": "code",
   "execution_count": null,
   "metadata": {
    "collapsed": true
   },
   "outputs": [],
   "source": [
    "reset -sf"
   ]
  },
  {
   "cell_type": "code",
   "execution_count": 1,
   "metadata": {
    "collapsed": true
   },
   "outputs": [],
   "source": [
    "import pandas as pd\n",
    "import ftfy\n",
    "import numpy as np\n",
    "import matplotlib.pyplot as plt\n",
    "import string\n",
    "%matplotlib inline"
   ]
  },
  {
   "cell_type": "code",
   "execution_count": 2,
   "metadata": {
    "collapsed": true
   },
   "outputs": [],
   "source": [
    "from sklearn.feature_extraction.text import CountVectorizer, TfidfVectorizer\n",
    "from sklearn.feature_extraction import stop_words\n",
    "from sklearn.naive_bayes import BernoulliNB, GaussianNB, MultinomialNB\n",
    "from sklearn.cross_validation import train_test_split\n",
    "from sklearn.cross_validation import cross_val_score\n",
    "from sklearn.ensemble import RandomForestClassifier, ExtraTreesClassifier, GradientBoostingClassifier"
   ]
  },
  {
   "cell_type": "code",
   "execution_count": 6,
   "metadata": {
    "collapsed": false,
    "scrolled": false
   },
   "outputs": [
    {
     "data": {
      "text/html": [
       "<div>\n",
       "<table border=\"1\" class=\"dataframe\">\n",
       "  <thead>\n",
       "    <tr style=\"text-align: right;\">\n",
       "      <th></th>\n",
       "      <th>artist</th>\n",
       "      <th>song</th>\n",
       "      <th>link</th>\n",
       "      <th>lyrics</th>\n",
       "      <th>genre</th>\n",
       "    </tr>\n",
       "  </thead>\n",
       "  <tbody>\n",
       "    <tr>\n",
       "      <th>0</th>\n",
       "      <td>Mos Def</td>\n",
       "      <td>Mathematics prod. by DJ Premier</td>\n",
       "      <td>http://genius.com/Yasiin-bey-mathematics-lyrics</td>\n",
       "      <td>Beats by Su-Primo for all of my people, negroe...</td>\n",
       "      <td>rap</td>\n",
       "    </tr>\n",
       "    <tr>\n",
       "      <th>1</th>\n",
       "      <td>Mos Def</td>\n",
       "      <td>Back Home by A$AP Rocky  (Ft. Acyde &amp; A$AP Yam...</td>\n",
       "      <td>http://genius.com/A-ap-rocky-back-home-lyrics</td>\n",
       "      <td>\\nGotta find my way back home, I've been away ...</td>\n",
       "      <td>rap</td>\n",
       "    </tr>\n",
       "    <tr>\n",
       "      <th>2</th>\n",
       "      <td>Mos Def</td>\n",
       "      <td>Ms. Fat Booty prod. by Ayatollah</td>\n",
       "      <td>http://genius.com/Yasiin-bey-ms-fat-booty-lyrics</td>\n",
       "      <td>I know I can't afford to stop\\nFor one moment,...</td>\n",
       "      <td>rap</td>\n",
       "    </tr>\n",
       "    <tr>\n",
       "      <th>3</th>\n",
       "      <td>Mos Def</td>\n",
       "      <td>Respiration by Black Star  (Ft. Common) prod. ...</td>\n",
       "      <td>http://genius.com/Black-star-respiration-lyrics</td>\n",
       "      <td>\"What'd you do last night?\"\\n\"We did umm, two ...</td>\n",
       "      <td>rap</td>\n",
       "    </tr>\n",
       "    <tr>\n",
       "      <th>4</th>\n",
       "      <td>Mos Def</td>\n",
       "      <td>Two Words by Kanye West  (Ft. Freeway) prod. b...</td>\n",
       "      <td>http://genius.com/Kanye-west-two-words-lyrics</td>\n",
       "      <td>Half-Hook: Kanye West]\\nNow throw ya hands up ...</td>\n",
       "      <td>rap</td>\n",
       "    </tr>\n",
       "    <tr>\n",
       "      <th>5</th>\n",
       "      <td>Mos Def</td>\n",
       "      <td>Drunk and Hot Girls by Kanye West  prod. by Jo...</td>\n",
       "      <td>http://genius.com/Kanye-west-drunk-and-hot-gir...</td>\n",
       "      <td>La-da-da da-da da-da da-da da-da da\\nBlap!\\n\\n...</td>\n",
       "      <td>rap</td>\n",
       "    </tr>\n",
       "    <tr>\n",
       "      <th>6</th>\n",
       "      <td>Mos Def</td>\n",
       "      <td>Auditorium (Ft. Slick Rick) prod. by Madlib</td>\n",
       "      <td>http://genius.com/Yasiin-bey-auditorium-lyrics</td>\n",
       "      <td>The way I feel, sometimes it's too hard to sit...</td>\n",
       "      <td>rap</td>\n",
       "    </tr>\n",
       "    <tr>\n",
       "      <th>7</th>\n",
       "      <td>Mos Def</td>\n",
       "      <td>All Praise Due prod. by Adlib</td>\n",
       "      <td>http://genius.com/Yasiin-bey-all-praise-due-ly...</td>\n",
       "      <td>A lot of people wonder...a lot of speculation ...</td>\n",
       "      <td>rap</td>\n",
       "    </tr>\n",
       "    <tr>\n",
       "      <th>8</th>\n",
       "      <td>Mos Def</td>\n",
       "      <td>America by K'naan  (Ft. Chali 2na)</td>\n",
       "      <td>http://genius.com/Knaan-america-lyrics</td>\n",
       "      <td>Uh huh uh huh uh huh\\nOh this takes me home\\nI...</td>\n",
       "      <td>rap</td>\n",
       "    </tr>\n",
       "    <tr>\n",
       "      <th>9</th>\n",
       "      <td>Mos Def</td>\n",
       "      <td>An Open Letter From Mos Def</td>\n",
       "      <td>http://genius.com/Yasiin-bey-an-open-letter-fr...</td>\n",
       "      <td>An Open Letter From Mos Def\\nBy Mos Def\\nFebru...</td>\n",
       "      <td>rap</td>\n",
       "    </tr>\n",
       "    <tr>\n",
       "      <th>10</th>\n",
       "      <td>Mos Def</td>\n",
       "      <td>Astronomy (8th Light) by Black Star  (Ft. Weld...</td>\n",
       "      <td>http://genius.com/Black-star-astronomy-8th-lig...</td>\n",
       "      <td>Against the canvas of the night\\nAppears a cur...</td>\n",
       "      <td>rap</td>\n",
       "    </tr>\n",
       "    <tr>\n",
       "      <th>11</th>\n",
       "      <td>Mos Def</td>\n",
       "      <td>A Tree Never Grown (Ft. A.L., Fre, Grafh, Jane...</td>\n",
       "      <td>http://genius.com/Yasiin-bey-a-tree-never-grow...</td>\n",
       "      <td>Yo, this is 88\\nThis is for Amadou Diallo\\nRes...</td>\n",
       "      <td>rap</td>\n",
       "    </tr>\n",
       "    <tr>\n",
       "      <th>12</th>\n",
       "      <td>Mos Def</td>\n",
       "      <td>Auditorium (Ft. Slick Rick) prod. by Madlib</td>\n",
       "      <td>http://genius.com/Yasiin-bey-auditorium-lyrics</td>\n",
       "      <td>The way I feel, sometimes it's too hard to sit...</td>\n",
       "      <td>rap</td>\n",
       "    </tr>\n",
       "    <tr>\n",
       "      <th>13</th>\n",
       "      <td>Mos Def</td>\n",
       "      <td>Back Home by A$AP Rocky  (Ft. Acyde &amp; A$AP Yam...</td>\n",
       "      <td>http://genius.com/A-ap-rocky-back-home-lyrics</td>\n",
       "      <td>\\nGotta find my way back home, I've been away ...</td>\n",
       "      <td>rap</td>\n",
       "    </tr>\n",
       "    <tr>\n",
       "      <th>14</th>\n",
       "      <td>Mos Def</td>\n",
       "      <td>Basquiat Ghostwriter</td>\n",
       "      <td>http://genius.com/Yasiin-bey-basquiat-ghostwri...</td>\n",
       "      <td>Bis Mil'Lah\\nBasquiat Ghostwriter\\n\\n\\nKayo in...</td>\n",
       "      <td>rap</td>\n",
       "    </tr>\n",
       "    <tr>\n",
       "      <th>15</th>\n",
       "      <td>Mos Def</td>\n",
       "      <td>B-Boy Document 99 by The High &amp; Mighty  (Ft. S...</td>\n",
       "      <td>http://genius.com/The-high-and-mighty-b-boy-do...</td>\n",
       "      <td>Yeah\\nWhat it look like?\\nMad Skillz\\nMr. Eon ...</td>\n",
       "      <td>rap</td>\n",
       "    </tr>\n",
       "    <tr>\n",
       "      <th>16</th>\n",
       "      <td>Mos Def</td>\n",
       "      <td>B Boys Will B Boys by Black Star  prod. by Ge-...</td>\n",
       "      <td>http://genius.com/Black-star-b-boys-will-b-boy...</td>\n",
       "      <td>Yo yo, yo, whassup, yo yo\\nYo yo, we gonna, we...</td>\n",
       "      <td>rap</td>\n",
       "    </tr>\n",
       "    <tr>\n",
       "      <th>17</th>\n",
       "      <td>Mos Def</td>\n",
       "      <td>Beauty In The Dark (Ft. The Isley Brothers)</td>\n",
       "      <td>http://genius.com/Yasiin-bey-beauty-in-the-dar...</td>\n",
       "      <td>[Mos Def] (Isley Brothers)\\nAnd ya know\\nYes y...</td>\n",
       "      <td>rap</td>\n",
       "    </tr>\n",
       "    <tr>\n",
       "      <th>18</th>\n",
       "      <td>Mos Def</td>\n",
       "      <td>Bedstuy Parade &amp; Funeral March</td>\n",
       "      <td>http://genius.com/Yasiin-bey-bedstuy-parade-an...</td>\n",
       "      <td>Turn the drums up\\nTurn my vocals, too\\nI hear...</td>\n",
       "      <td>rap</td>\n",
       "    </tr>\n",
       "    <tr>\n",
       "      <th>19</th>\n",
       "      <td>Mos Def</td>\n",
       "      <td>Beef prod. by Minnesota</td>\n",
       "      <td>http://genius.com/Yasiin-bey-beef-lyrics</td>\n",
       "      <td>Beef is not what Jay said to Nas\\nBeef is when...</td>\n",
       "      <td>rap</td>\n",
       "    </tr>\n",
       "    <tr>\n",
       "      <th>20</th>\n",
       "      <td>Mos Def</td>\n",
       "      <td>BET Cypher (Ft. Black Thought &amp; Eminem)</td>\n",
       "      <td>http://genius.com/Yasiin-bey-bet-cypher-lyrics</td>\n",
       "      <td>For sinners, saintsandscramblersand gamblers\\n...</td>\n",
       "      <td>rap</td>\n",
       "    </tr>\n",
       "    <tr>\n",
       "      <th>21</th>\n",
       "      <td>Mos Def</td>\n",
       "      <td>Bey</td>\n",
       "      <td>http://genius.com/Yasiin-bey-bey-lyrics</td>\n",
       "      <td>Yasiin Yasiin Yasiin\\nTop 40 Un-rah! (Underdog...</td>\n",
       "      <td>rap</td>\n",
       "    </tr>\n",
       "    <tr>\n",
       "      <th>22</th>\n",
       "      <td>Mos Def</td>\n",
       "      <td>Big Brother Beat by De La Soul  prod. by Skeff...</td>\n",
       "      <td>http://genius.com/De-la-soul-big-brother-beat-...</td>\n",
       "      <td>Now this goes out to all area cliques\\nCentral...</td>\n",
       "      <td>rap</td>\n",
       "    </tr>\n",
       "    <tr>\n",
       "      <th>23</th>\n",
       "      <td>Mos Def</td>\n",
       "      <td>Bin Laden by Immortal Technique  (Ft. Jadakiss)</td>\n",
       "      <td>http://genius.com/Immortal-technique-bin-laden...</td>\n",
       "      <td>Man you hear this bullshit they be talking\\nEv...</td>\n",
       "      <td>rap</td>\n",
       "    </tr>\n",
       "    <tr>\n",
       "      <th>24</th>\n",
       "      <td>Mos Def</td>\n",
       "      <td>Black Jesus prod. by Mannie Fresh</td>\n",
       "      <td>http://genius.com/Yasiin-bey-black-jesus-lyrics</td>\n",
       "      <td>Hallelujah\\nSweet Black Jesus\\nHallelujah\\nHal...</td>\n",
       "      <td>rap</td>\n",
       "    </tr>\n",
       "    <tr>\n",
       "      <th>25</th>\n",
       "      <td>Mos Def</td>\n",
       "      <td>Black on Both Sides [Credits]</td>\n",
       "      <td>http://genius.com/Yasiin-bey-black-on-both-sid...</td>\n",
       "      <td>NaN</td>\n",
       "      <td>rap</td>\n",
       "    </tr>\n",
       "    <tr>\n",
       "      <th>26</th>\n",
       "      <td>Mos Def</td>\n",
       "      <td>Black Radio by Robert Glasper</td>\n",
       "      <td>http://genius.com/Robert-glasper-black-radio-l...</td>\n",
       "      <td>Experiment:\\nBlack radio\\nExperiment, black ra...</td>\n",
       "      <td>rap</td>\n",
       "    </tr>\n",
       "    <tr>\n",
       "      <th>27</th>\n",
       "      <td>Young Jeezy</td>\n",
       "      <td>Church In These Streets [Tracklist + Album Cover]</td>\n",
       "      <td>http://genius.com/Jeezy-church-in-these-street...</td>\n",
       "      <td>1.Grind State\\n2.Lost Souls\\n3.Holy Water\\n4.G...</td>\n",
       "      <td>rap</td>\n",
       "    </tr>\n",
       "    <tr>\n",
       "      <th>28</th>\n",
       "      <td>Young Jeezy</td>\n",
       "      <td>My Nigga by YG  (Ft. Rich Homie Quan) prod. by...</td>\n",
       "      <td>http://genius.com/Yg-my-nigga-lyrics</td>\n",
       "      <td>I said that I’mma ride for my motherfuckin' ni...</td>\n",
       "      <td>rap</td>\n",
       "    </tr>\n",
       "    <tr>\n",
       "      <th>29</th>\n",
       "      <td>Young Jeezy</td>\n",
       "      <td>Church In These Streets prod. by Zaytoven</td>\n",
       "      <td>http://genius.com/Jeezy-church-in-these-street...</td>\n",
       "      <td>Oh man, you know what this shit is my nigga\\nI...</td>\n",
       "      <td>rap</td>\n",
       "    </tr>\n",
       "    <tr>\n",
       "      <th>30</th>\n",
       "      <td>Young Jeezy</td>\n",
       "      <td>Sweet Life (Ft. Janelle Monáe) prod. by C4</td>\n",
       "      <td>http://genius.com/Jeezy-sweet-life-lyrics</td>\n",
       "      <td>Sweet life, oh my, you turn this to light\\nAll...</td>\n",
       "      <td>rap</td>\n",
       "    </tr>\n",
       "    <tr>\n",
       "      <th>31</th>\n",
       "      <td>Young Jeezy</td>\n",
       "      <td>Grind State</td>\n",
       "      <td>http://genius.com/Jeezy-grind-state-lyrics</td>\n",
       "      <td>I can count a million with a blindfold\\nGot th...</td>\n",
       "      <td>rap</td>\n",
       "    </tr>\n",
       "    <tr>\n",
       "      <th>32</th>\n",
       "      <td>Young Jeezy</td>\n",
       "      <td>God prod. by Southside On The Track &amp; TM88</td>\n",
       "      <td>http://genius.com/Jeezy-god-lyrics</td>\n",
       "      <td>I'm a god in the hood, nigga\\nI'm a god in the...</td>\n",
       "      <td>rap</td>\n",
       "    </tr>\n",
       "    <tr>\n",
       "      <th>33</th>\n",
       "      <td>Young Jeezy</td>\n",
       "      <td>Gold Bottles prod. by London On Da Track</td>\n",
       "      <td>http://genius.com/Jeezy-gold-bottles-lyrics</td>\n",
       "      <td>Yeah, yeah\\nYou know what this is nigga?\\nWhen...</td>\n",
       "      <td>rap</td>\n",
       "    </tr>\n",
       "    <tr>\n",
       "      <th>34</th>\n",
       "      <td>Young Jeezy</td>\n",
       "      <td>100 Million by Birdman  (Ft. Lil Wayne &amp; Rick ...</td>\n",
       "      <td>http://genius.com/Birdman-100-million-lyrics</td>\n",
       "      <td>This is for the hood,this is for the ghetto\\nT...</td>\n",
       "      <td>rap</td>\n",
       "    </tr>\n",
       "    <tr>\n",
       "      <th>35</th>\n",
       "      <td>Young Jeezy</td>\n",
       "      <td>1/4 Block</td>\n",
       "      <td>http://genius.com/Jeezy-1-4-block-lyrics</td>\n",
       "      <td>\\nJust re'd up, nigga got a 9 piece\\nAll the w...</td>\n",
       "      <td>rap</td>\n",
       "    </tr>\n",
       "    <tr>\n",
       "      <th>36</th>\n",
       "      <td>Young Jeezy</td>\n",
       "      <td>24 - 23</td>\n",
       "      <td>http://genius.com/Jeezy-24-23-lyrics</td>\n",
       "      <td>What I paid for it, should've came with an ala...</td>\n",
       "      <td>rap</td>\n",
       "    </tr>\n",
       "    <tr>\n",
       "      <th>37</th>\n",
       "      <td>Young Jeezy</td>\n",
       "      <td>.38 (Ft. Freddie Gibbs) prod. by Lil' Lody</td>\n",
       "      <td>http://genius.com/Jeezy-38-lyrics</td>\n",
       "      <td>Yeah, yeah, yeah, yeah, yeah\\nI don’t think th...</td>\n",
       "      <td>rap</td>\n",
       "    </tr>\n",
       "    <tr>\n",
       "      <th>38</th>\n",
       "      <td>Young Jeezy</td>\n",
       "      <td>3 A.M. (Ft. Timbaland) prod. by Timbaland</td>\n",
       "      <td>http://genius.com/Jeezy-3-am-lyrics</td>\n",
       "      <td>It's Young Jizzle and I'm back with Timbo\\nWit...</td>\n",
       "      <td>rap</td>\n",
       "    </tr>\n",
       "    <tr>\n",
       "      <th>39</th>\n",
       "      <td>Young Jeezy</td>\n",
       "      <td>4 Kings by Young Buck  (Ft. Jazze Pha, Pimp C ...</td>\n",
       "      <td>http://genius.com/Young-buck-4-kings-lyrics</td>\n",
       "      <td>Ladies and Gentlemen..\\n\\n\\nI got my pistol in...</td>\n",
       "      <td>rap</td>\n",
       "    </tr>\n",
       "    <tr>\n",
       "      <th>40</th>\n",
       "      <td>Young Jeezy</td>\n",
       "      <td>4 What (Ft. DJ Drama, Juicy J &amp; Yo Gotti)</td>\n",
       "      <td>http://genius.com/Jeezy-4-what-lyrics</td>\n",
       "      <td>DJ Drama what it do my G?\\nIt's the world nigg...</td>\n",
       "      <td>rap</td>\n",
       "    </tr>\n",
       "    <tr>\n",
       "      <th>41</th>\n",
       "      <td>Young Jeezy</td>\n",
       "      <td>4 Zones prod. by Mike WiLL Made It</td>\n",
       "      <td>http://genius.com/Jeezy-4-zones-lyrics</td>\n",
       "      <td>Keep it a thousand man\\nI'll show you what to ...</td>\n",
       "      <td>rap</td>\n",
       "    </tr>\n",
       "    <tr>\n",
       "      <th>42</th>\n",
       "      <td>Young Jeezy</td>\n",
       "      <td>5000 Ones by DJ Drama  (Ft. Nelly, Puff Daddy,...</td>\n",
       "      <td>http://genius.com/Dj-drama-5000-ones-lyrics</td>\n",
       "      <td>Drama, Mr. Thanksgiving\\nJazze, we got one, bi...</td>\n",
       "      <td>rap</td>\n",
       "    </tr>\n",
       "    <tr>\n",
       "      <th>43</th>\n",
       "      <td>Young Jeezy</td>\n",
       "      <td>About The Money (Remix) by T.I.  (Ft. Lil Wayn...</td>\n",
       "      <td>http://genius.com/Ti-about-the-money-remix-lyrics</td>\n",
       "      <td>I step up in this bitch like Moses\\nDamn right...</td>\n",
       "      <td>rap</td>\n",
       "    </tr>\n",
       "    <tr>\n",
       "      <th>44</th>\n",
       "      <td>Young Jeezy</td>\n",
       "      <td>Act Right by Yo Gotti  (Ft. YG) prod. by P-Lo</td>\n",
       "      <td>http://genius.com/Yo-gotti-act-right-lyrics</td>\n",
       "      <td>I'm going going back back to the Bay\\nRest in ...</td>\n",
       "      <td>rap</td>\n",
       "    </tr>\n",
       "    <tr>\n",
       "      <th>45</th>\n",
       "      <td>Young Jeezy</td>\n",
       "      <td>Addicted (Ft. T.I. &amp; YG) prod. by Childish Major</td>\n",
       "      <td>http://genius.com/Jeezy-addicted-lyrics</td>\n",
       "      <td>Man, these hoes, oh\\nWhen it come to gettin' p...</td>\n",
       "      <td>rap</td>\n",
       "    </tr>\n",
       "    <tr>\n",
       "      <th>46</th>\n",
       "      <td>Young Jeezy</td>\n",
       "      <td>Ain't No Way Around It (Remix) by DJ Drama  (F...</td>\n",
       "      <td>http://genius.com/Dj-drama-aint-no-way-around-...</td>\n",
       "      <td>Ain't no way around it [x6]\\n\\n\\nA bitch gon' ...</td>\n",
       "      <td>rap</td>\n",
       "    </tr>\n",
       "    <tr>\n",
       "      <th>47</th>\n",
       "      <td>Young Jeezy</td>\n",
       "      <td>Air Forces 2</td>\n",
       "      <td>http://genius.com/Jeezy-air-forces-2-lyrics</td>\n",
       "      <td>Thug Motivation 103, on the way, nigga\\n\\n\\nGu...</td>\n",
       "      <td>rap</td>\n",
       "    </tr>\n",
       "    <tr>\n",
       "      <th>48</th>\n",
       "      <td>Young Jeezy</td>\n",
       "      <td>Air Forces (Bonus Track) prod. by Shawty Redd</td>\n",
       "      <td>http://genius.com/Jeezy-air-forces-bonus-track...</td>\n",
       "      <td>I went from old school Chevys, to drop top por...</td>\n",
       "      <td>rap</td>\n",
       "    </tr>\n",
       "    <tr>\n",
       "      <th>49</th>\n",
       "      <td>Young Jeezy</td>\n",
       "      <td>All About The Money Remix by Troy Ave  (Ft. Ri...</td>\n",
       "      <td>http://genius.com/Troy-ave-all-about-the-money...</td>\n",
       "      <td>It's the Remix though! (Young Troy what it do!...</td>\n",
       "      <td>rap</td>\n",
       "    </tr>\n",
       "  </tbody>\n",
       "</table>\n",
       "</div>"
      ],
      "text/plain": [
       "         artist                                               song  \\\n",
       "0       Mos Def                    Mathematics prod. by DJ Premier   \n",
       "1       Mos Def  Back Home by A$AP Rocky  (Ft. Acyde & A$AP Yam...   \n",
       "2       Mos Def                   Ms. Fat Booty prod. by Ayatollah   \n",
       "3       Mos Def  Respiration by Black Star  (Ft. Common) prod. ...   \n",
       "4       Mos Def  Two Words by Kanye West  (Ft. Freeway) prod. b...   \n",
       "5       Mos Def  Drunk and Hot Girls by Kanye West  prod. by Jo...   \n",
       "6       Mos Def        Auditorium (Ft. Slick Rick) prod. by Madlib   \n",
       "7       Mos Def                      All Praise Due prod. by Adlib   \n",
       "8       Mos Def                 America by K'naan  (Ft. Chali 2na)   \n",
       "9       Mos Def                        An Open Letter From Mos Def   \n",
       "10      Mos Def  Astronomy (8th Light) by Black Star  (Ft. Weld...   \n",
       "11      Mos Def  A Tree Never Grown (Ft. A.L., Fre, Grafh, Jane...   \n",
       "12      Mos Def        Auditorium (Ft. Slick Rick) prod. by Madlib   \n",
       "13      Mos Def  Back Home by A$AP Rocky  (Ft. Acyde & A$AP Yam...   \n",
       "14      Mos Def                               Basquiat Ghostwriter   \n",
       "15      Mos Def  B-Boy Document 99 by The High & Mighty  (Ft. S...   \n",
       "16      Mos Def  B Boys Will B Boys by Black Star  prod. by Ge-...   \n",
       "17      Mos Def        Beauty In The Dark (Ft. The Isley Brothers)   \n",
       "18      Mos Def                     Bedstuy Parade & Funeral March   \n",
       "19      Mos Def                            Beef prod. by Minnesota   \n",
       "20      Mos Def            BET Cypher (Ft. Black Thought & Eminem)   \n",
       "21      Mos Def                                                Bey   \n",
       "22      Mos Def  Big Brother Beat by De La Soul  prod. by Skeff...   \n",
       "23      Mos Def    Bin Laden by Immortal Technique  (Ft. Jadakiss)   \n",
       "24      Mos Def                  Black Jesus prod. by Mannie Fresh   \n",
       "25      Mos Def                      Black on Both Sides [Credits]   \n",
       "26      Mos Def                      Black Radio by Robert Glasper   \n",
       "27  Young Jeezy  Church In These Streets [Tracklist + Album Cover]   \n",
       "28  Young Jeezy  My Nigga by YG  (Ft. Rich Homie Quan) prod. by...   \n",
       "29  Young Jeezy          Church In These Streets prod. by Zaytoven   \n",
       "30  Young Jeezy         Sweet Life (Ft. Janelle Monáe) prod. by C4   \n",
       "31  Young Jeezy                                        Grind State   \n",
       "32  Young Jeezy         God prod. by Southside On The Track & TM88   \n",
       "33  Young Jeezy           Gold Bottles prod. by London On Da Track   \n",
       "34  Young Jeezy  100 Million by Birdman  (Ft. Lil Wayne & Rick ...   \n",
       "35  Young Jeezy                                          1/4 Block   \n",
       "36  Young Jeezy                                            24 - 23   \n",
       "37  Young Jeezy         .38 (Ft. Freddie Gibbs) prod. by Lil' Lody   \n",
       "38  Young Jeezy          3 A.M. (Ft. Timbaland) prod. by Timbaland   \n",
       "39  Young Jeezy  4 Kings by Young Buck  (Ft. Jazze Pha, Pimp C ...   \n",
       "40  Young Jeezy          4 What (Ft. DJ Drama, Juicy J & Yo Gotti)   \n",
       "41  Young Jeezy                 4 Zones prod. by Mike WiLL Made It   \n",
       "42  Young Jeezy  5000 Ones by DJ Drama  (Ft. Nelly, Puff Daddy,...   \n",
       "43  Young Jeezy  About The Money (Remix) by T.I.  (Ft. Lil Wayn...   \n",
       "44  Young Jeezy      Act Right by Yo Gotti  (Ft. YG) prod. by P-Lo   \n",
       "45  Young Jeezy   Addicted (Ft. T.I. & YG) prod. by Childish Major   \n",
       "46  Young Jeezy  Ain't No Way Around It (Remix) by DJ Drama  (F...   \n",
       "47  Young Jeezy                                       Air Forces 2   \n",
       "48  Young Jeezy      Air Forces (Bonus Track) prod. by Shawty Redd   \n",
       "49  Young Jeezy  All About The Money Remix by Troy Ave  (Ft. Ri...   \n",
       "\n",
       "                                                 link  \\\n",
       "0     http://genius.com/Yasiin-bey-mathematics-lyrics   \n",
       "1       http://genius.com/A-ap-rocky-back-home-lyrics   \n",
       "2    http://genius.com/Yasiin-bey-ms-fat-booty-lyrics   \n",
       "3     http://genius.com/Black-star-respiration-lyrics   \n",
       "4       http://genius.com/Kanye-west-two-words-lyrics   \n",
       "5   http://genius.com/Kanye-west-drunk-and-hot-gir...   \n",
       "6      http://genius.com/Yasiin-bey-auditorium-lyrics   \n",
       "7   http://genius.com/Yasiin-bey-all-praise-due-ly...   \n",
       "8              http://genius.com/Knaan-america-lyrics   \n",
       "9   http://genius.com/Yasiin-bey-an-open-letter-fr...   \n",
       "10  http://genius.com/Black-star-astronomy-8th-lig...   \n",
       "11  http://genius.com/Yasiin-bey-a-tree-never-grow...   \n",
       "12     http://genius.com/Yasiin-bey-auditorium-lyrics   \n",
       "13      http://genius.com/A-ap-rocky-back-home-lyrics   \n",
       "14  http://genius.com/Yasiin-bey-basquiat-ghostwri...   \n",
       "15  http://genius.com/The-high-and-mighty-b-boy-do...   \n",
       "16  http://genius.com/Black-star-b-boys-will-b-boy...   \n",
       "17  http://genius.com/Yasiin-bey-beauty-in-the-dar...   \n",
       "18  http://genius.com/Yasiin-bey-bedstuy-parade-an...   \n",
       "19           http://genius.com/Yasiin-bey-beef-lyrics   \n",
       "20     http://genius.com/Yasiin-bey-bet-cypher-lyrics   \n",
       "21            http://genius.com/Yasiin-bey-bey-lyrics   \n",
       "22  http://genius.com/De-la-soul-big-brother-beat-...   \n",
       "23  http://genius.com/Immortal-technique-bin-laden...   \n",
       "24    http://genius.com/Yasiin-bey-black-jesus-lyrics   \n",
       "25  http://genius.com/Yasiin-bey-black-on-both-sid...   \n",
       "26  http://genius.com/Robert-glasper-black-radio-l...   \n",
       "27  http://genius.com/Jeezy-church-in-these-street...   \n",
       "28               http://genius.com/Yg-my-nigga-lyrics   \n",
       "29  http://genius.com/Jeezy-church-in-these-street...   \n",
       "30          http://genius.com/Jeezy-sweet-life-lyrics   \n",
       "31         http://genius.com/Jeezy-grind-state-lyrics   \n",
       "32                 http://genius.com/Jeezy-god-lyrics   \n",
       "33        http://genius.com/Jeezy-gold-bottles-lyrics   \n",
       "34       http://genius.com/Birdman-100-million-lyrics   \n",
       "35           http://genius.com/Jeezy-1-4-block-lyrics   \n",
       "36               http://genius.com/Jeezy-24-23-lyrics   \n",
       "37                  http://genius.com/Jeezy-38-lyrics   \n",
       "38                http://genius.com/Jeezy-3-am-lyrics   \n",
       "39        http://genius.com/Young-buck-4-kings-lyrics   \n",
       "40              http://genius.com/Jeezy-4-what-lyrics   \n",
       "41             http://genius.com/Jeezy-4-zones-lyrics   \n",
       "42        http://genius.com/Dj-drama-5000-ones-lyrics   \n",
       "43  http://genius.com/Ti-about-the-money-remix-lyrics   \n",
       "44        http://genius.com/Yo-gotti-act-right-lyrics   \n",
       "45            http://genius.com/Jeezy-addicted-lyrics   \n",
       "46  http://genius.com/Dj-drama-aint-no-way-around-...   \n",
       "47        http://genius.com/Jeezy-air-forces-2-lyrics   \n",
       "48  http://genius.com/Jeezy-air-forces-bonus-track...   \n",
       "49  http://genius.com/Troy-ave-all-about-the-money...   \n",
       "\n",
       "                                               lyrics genre  \n",
       "0   Beats by Su-Primo for all of my people, negroe...   rap  \n",
       "1   \\nGotta find my way back home, I've been away ...   rap  \n",
       "2   I know I can't afford to stop\\nFor one moment,...   rap  \n",
       "3   \"What'd you do last night?\"\\n\"We did umm, two ...   rap  \n",
       "4   Half-Hook: Kanye West]\\nNow throw ya hands up ...   rap  \n",
       "5   La-da-da da-da da-da da-da da-da da\\nBlap!\\n\\n...   rap  \n",
       "6   The way I feel, sometimes it's too hard to sit...   rap  \n",
       "7   A lot of people wonder...a lot of speculation ...   rap  \n",
       "8   Uh huh uh huh uh huh\\nOh this takes me home\\nI...   rap  \n",
       "9   An Open Letter From Mos Def\\nBy Mos Def\\nFebru...   rap  \n",
       "10  Against the canvas of the night\\nAppears a cur...   rap  \n",
       "11  Yo, this is 88\\nThis is for Amadou Diallo\\nRes...   rap  \n",
       "12  The way I feel, sometimes it's too hard to sit...   rap  \n",
       "13  \\nGotta find my way back home, I've been away ...   rap  \n",
       "14  Bis Mil'Lah\\nBasquiat Ghostwriter\\n\\n\\nKayo in...   rap  \n",
       "15  Yeah\\nWhat it look like?\\nMad Skillz\\nMr. Eon ...   rap  \n",
       "16  Yo yo, yo, whassup, yo yo\\nYo yo, we gonna, we...   rap  \n",
       "17  [Mos Def] (Isley Brothers)\\nAnd ya know\\nYes y...   rap  \n",
       "18  Turn the drums up\\nTurn my vocals, too\\nI hear...   rap  \n",
       "19  Beef is not what Jay said to Nas\\nBeef is when...   rap  \n",
       "20  For sinners, saintsandscramblersand gamblers\\n...   rap  \n",
       "21  Yasiin Yasiin Yasiin\\nTop 40 Un-rah! (Underdog...   rap  \n",
       "22  Now this goes out to all area cliques\\nCentral...   rap  \n",
       "23  Man you hear this bullshit they be talking\\nEv...   rap  \n",
       "24  Hallelujah\\nSweet Black Jesus\\nHallelujah\\nHal...   rap  \n",
       "25                                                NaN   rap  \n",
       "26  Experiment:\\nBlack radio\\nExperiment, black ra...   rap  \n",
       "27  1.Grind State\\n2.Lost Souls\\n3.Holy Water\\n4.G...   rap  \n",
       "28  I said that I’mma ride for my motherfuckin' ni...   rap  \n",
       "29  Oh man, you know what this shit is my nigga\\nI...   rap  \n",
       "30  Sweet life, oh my, you turn this to light\\nAll...   rap  \n",
       "31  I can count a million with a blindfold\\nGot th...   rap  \n",
       "32  I'm a god in the hood, nigga\\nI'm a god in the...   rap  \n",
       "33  Yeah, yeah\\nYou know what this is nigga?\\nWhen...   rap  \n",
       "34  This is for the hood,this is for the ghetto\\nT...   rap  \n",
       "35  \\nJust re'd up, nigga got a 9 piece\\nAll the w...   rap  \n",
       "36  What I paid for it, should've came with an ala...   rap  \n",
       "37  Yeah, yeah, yeah, yeah, yeah\\nI don’t think th...   rap  \n",
       "38  It's Young Jizzle and I'm back with Timbo\\nWit...   rap  \n",
       "39  Ladies and Gentlemen..\\n\\n\\nI got my pistol in...   rap  \n",
       "40  DJ Drama what it do my G?\\nIt's the world nigg...   rap  \n",
       "41  Keep it a thousand man\\nI'll show you what to ...   rap  \n",
       "42  Drama, Mr. Thanksgiving\\nJazze, we got one, bi...   rap  \n",
       "43  I step up in this bitch like Moses\\nDamn right...   rap  \n",
       "44  I'm going going back back to the Bay\\nRest in ...   rap  \n",
       "45  Man, these hoes, oh\\nWhen it come to gettin' p...   rap  \n",
       "46  Ain't no way around it [x6]\\n\\n\\nA bitch gon' ...   rap  \n",
       "47  Thug Motivation 103, on the way, nigga\\n\\n\\nGu...   rap  \n",
       "48  I went from old school Chevys, to drop top por...   rap  \n",
       "49  It's the Remix though! (Young Troy what it do!...   rap  "
      ]
     },
     "execution_count": 6,
     "metadata": {},
     "output_type": "execute_result"
    }
   ],
   "source": [
    "df = pd.read_csv('artist_lyrics.csv').drop('Unnamed: 0', axis=1)\n",
    "df.head(50)"
   ]
  },
  {
   "cell_type": "code",
   "execution_count": null,
   "metadata": {
    "collapsed": false
   },
   "outputs": [],
   "source": [
    "# df.info()"
   ]
  },
  {
   "cell_type": "markdown",
   "metadata": {},
   "source": [
    "### Messing with a song I know well "
   ]
  },
  {
   "cell_type": "code",
   "execution_count": 5,
   "metadata": {
    "collapsed": false
   },
   "outputs": [
    {
     "data": {
      "text/plain": [
       "'Beats by Su-Primo for all of my people, negroes and latinos\\nAnd even the gringos\\n\\n\\nYo, check it\\nOne for Charlie Hustle, 2 for Steady Rock\\n3 for the forthcoming live future shock\\nIt\\'s 5 dimensions, 6 senses\\n7 firmaments of heaven and hell,8 Million Stories to tell\\n9 planets faithfully keep in orbit with the probable tenth\\nThe universe expands length\\nThe body of my text possess extra strength\\nPower-lift the powerless up out of this towering inferno\\nMy ink so hot it burn through the journal\\nI\\'m blacker than midnight on Broadway and Myrtle\\nHip-Hop passed all your tall social hurdles\\nLike the nationwide project-prison-industry complex\\nWorking-class poor: better keep your alarm set\\nStreets too loud to ever hear freedom ring\\nSay evacuate your sleep, it\\'s dangerous to dream\\nFor ch-ching, cats get the \"cha-pow!\" You dead now\\nKilling fields need blood to graze the cash cow\\nIt\\'s a numbers game, but shit don\\'t add up somehow\\nLike I got, 16 to 32 bars to rock it\\nBut only 15% of profits ever see my pockets like\\n69 billion in the last 20 years\\nSpent on national defense but folks still live in fear like\\nNearly half of America\\'s largest cities is one-quarter black\\nThat\\'s why they gave Ricky Ross all the crack\\n16 ounces to a pound, 20 more to a ki\\nA 5-minute sentence hearing and you\\'re no longer free\\n40% of Americans own a cell phone\\nSo they can hear everything that you say when you ain\\'t home\\nI guess Michael Jackson was right: \"You Are Not Alone\"\\nRock your hardhat, black, cause you in the Terrordome\\nFull of hard niggas, large niggas, dice-tumblers\\nYoung teens and prison greens facing life numbers\\nCrack mothers, crack babies and AIDS patients\\nYoung bloods can\\'t spell but they could rock you in PlayStation\\nThis new math is whipping motherfuckers\\' ass\\nYou want to know how to rhyme you better learn how to add\\nIt\\'s mathematics\\n\\n\\n\"The Mighty Mos Def\"\"it\\'s simple mathematics\"\\n\"Check it out\"\"I revolve around science..\"\\n\"What are we talking about here?\"\\n\"Do your math\"\\n\"1, 2, 3, 4\"\\n\"What are we talking about here?\"\\n\\n\\nIt\\'s one universal lawbut 2 sides to every story\\n3 strikes and you be in for life, mandatory\\n4 MC\\'s murdered in the last 4 years\\nI ain\\'t trying to be the fifth one, the millennium is here\\nYo it\\'s 6 Million Ways to Die, from the 7 deadly thrills\\n8-year olds getting found with 9mils\\nIt\\'s 10 P.M., where your seeds at?What\\'s the deal?\\nHe on the hillpumping krillto keep they belly filled\\nLight in the ass with heavy steel, sights on the pretty shit in life\\nYoung soldiers trying to earn their next stripe\\nWhen the average minimum wage is $5.15\\nYou best believe you\\'ve got to find a new grind to get C.R.E.A.M\\nThe white unemployment rate? It\\'s nearly more than triple for black\\nSome front-liners got their gun in your back\\nBubbling crack, jewel theft and robbery to combat poverty\\nAnd end up in the global jail economy\\nStiffer stipulations attached to each sentence\\nBudget cutbacks but increased police presence\\nAnd even if you get out of prison still living\\nJoin the other 5 million under state supervision\\nThis is business: no faces, just lines and statistics\\nFrom your phone, your zip code to S-S-I digits\\nThe system break man, child, and women into figures\\n2 columns for \"who is\" and \"who ain\\'t niggas\"\\nNumbers is hard and real and they never have feelings\\nBut you push too hard, even numbers got limits\\nWhy did one straw break the camel\\'s back?\\nHere\\'s the secret\\nThe million other straws underneath it:it\\'s all mathematics'"
      ]
     },
     "execution_count": 5,
     "metadata": {},
     "output_type": "execute_result"
    }
   ],
   "source": [
    "math = df['lyrics'][0]\n",
    "math"
   ]
  },
  {
   "cell_type": "code",
   "execution_count": 6,
   "metadata": {
    "collapsed": true
   },
   "outputs": [],
   "source": [
    "# making a function to get rid of punctuation, newlines\n",
    "def song_cleaner(song):    \n",
    "    song = song.lower()\n",
    "    clean_song = \"\"\n",
    "    for i, char in enumerate(song):\n",
    "        if char not in string.punctuation:\n",
    "            clean_song += char\n",
    "        else:\n",
    "            clean_song += \" \"\n",
    "    return clean_song.replace('\\n', ' ')"
   ]
  },
  {
   "cell_type": "code",
   "execution_count": 7,
   "metadata": {
    "collapsed": false
   },
   "outputs": [],
   "source": [
    "# making a function to get rid of weird double spaces\n",
    "def double_space_remove(math):\n",
    "    i = 0\n",
    "    while i < len(math)-1:\n",
    "        if (math[i] == ' ') & (math[i+1] == ' '):\n",
    "            math = math[:i] + math[i+1:]\n",
    "            i+=2\n",
    "        else:\n",
    "            i+=1\n",
    "    return math"
   ]
  },
  {
   "cell_type": "code",
   "execution_count": 9,
   "metadata": {
    "collapsed": false
   },
   "outputs": [
    {
     "data": {
      "text/plain": [
       "'beats by su primo for all of my people negroes and latinos and even the gringos yo check it one for charlie hustle 2 for steady rock 3 for the forthcoming live future shock it s 5 dimensions 6 senses 7 firmaments of heaven and hell 8 million stories to tell 9 planets faithfully keep in orbit with the probable tenth the universe expands length the body of my text possess extra strength power lift the powerless up out of this towering inferno my ink so hot it burn through the journal i m blacker than midnight on broadway and myrtle hip hop passed all your tall social hurdles like the nationwide project prison industry complex working class poor better keep your alarm set streets too loud to ever hear freedom ring say evacuate your sleep it s dangerous to dream for ch ching cats get the cha pow you dead now killing fields need blood to graze the cash cow it s a numbers game but shit don t add up somehow like i got 16 to 32 bars to rock it but only 15 of profits ever see my pockets like 69 billion in the last 20 years spent on national defense but folks still live in fear like nearly half of america s largest cities is one quarter black that s why they gave ricky ross all the crack 16 ounces to a pound 20 more to a ki a 5 minute sentence hearing and you re no longer free 40 of americans own a cell phone so they can hear everything that you say when you ain t home i guess michael jackson was right you are not alone rock your hardhat black cause you in the terrordome full of hard niggas large niggas dice tumblers young teens and prison greens facing life numbers crack mothers crack babies and aids patients young bloods can t spell but they could rock you in playstation this new math is whipping motherfuckers ass you want to know how to rhyme you better learn how to add it s mathematics the mighty mos def it s simple mathematics check it out i revolve around science what are we talking about here do your math 1 2 3 4 what are we talking about here it s one universal lawbut 2 sides to every story 3 strikes and you be in for life mandatory 4 mc s murdered in the last 4 years i ain t trying to be the fifth one the millennium is here yo it s 6 million ways to die from the 7 deadly thrills 8 year olds getting found with 9mils it s 10 p m where your seeds at what s the deal he on the hillpumping krillto keep they belly filled light in the ass with heavy steel sights on the pretty shit in life young soldiers trying to earn their next stripe when the average minimum wage is 5 15 you best believe you ve got to find a new grind to get c r e a m the white unemployment rate it s nearly more than triple for black some front liners got their gun in your back bubbling crack jewel theft and robbery to combat poverty and end up in the global jail economy stiffer stipulations attached to each sentence budget cutbacks but increased police presence and even if you get out of prison still living join the other 5 million under state supervision this is business no faces just lines and statistics from your phone your zip code to s s i digits the system break man child and women into figures 2 columns for who is and who ain t niggas numbers is hard and real and they never have feelings but you push too hard even numbers got limits why did one straw break the camel s back here s the secret the million other straws underneath it it s all mathematics'"
      ]
     },
     "execution_count": 9,
     "metadata": {},
     "output_type": "execute_result"
    }
   ],
   "source": [
    "# example of \"cleaned\" song \n",
    "\" \".join(song_cleaner(double_space_remove(math)).split())"
   ]
  },
  {
   "cell_type": "code",
   "execution_count": 10,
   "metadata": {
    "collapsed": false
   },
   "outputs": [],
   "source": [
    "# checking to see if songs are NaN's \n",
    "\n",
    "drops = []\n",
    "for i, song in enumerate(df['lyrics']):\n",
    "    if type(song) != str:\n",
    "        drops.append(i)"
   ]
  },
  {
   "cell_type": "code",
   "execution_count": 12,
   "metadata": {
    "collapsed": false
   },
   "outputs": [
    {
     "data": {
      "text/plain": [
       "25     NaN\n",
       "335    NaN\n",
       "338    NaN\n",
       "368    NaN\n",
       "429    NaN\n",
       "520    NaN\n",
       "522    NaN\n",
       "Name: lyrics, dtype: object"
      ]
     },
     "execution_count": 12,
     "metadata": {},
     "output_type": "execute_result"
    }
   ],
   "source": [
    "# they're all NaNs\n",
    "df['lyrics'][drops]"
   ]
  },
  {
   "cell_type": "code",
   "execution_count": 13,
   "metadata": {
    "collapsed": false
   },
   "outputs": [],
   "source": [
    "df = df.drop(drops)"
   ]
  },
  {
   "cell_type": "code",
   "execution_count": 14,
   "metadata": {
    "collapsed": false
   },
   "outputs": [
    {
     "name": "stdout",
     "output_type": "stream",
     "text": [
      "(533, 5)\n",
      "(533,)\n"
     ]
    }
   ],
   "source": [
    "print df.shape\n",
    "print df['lyrics'].shape"
   ]
  },
  {
   "cell_type": "code",
   "execution_count": 15,
   "metadata": {
    "collapsed": false
   },
   "outputs": [
    {
     "data": {
      "text/html": [
       "<div>\n",
       "<table border=\"1\" class=\"dataframe\">\n",
       "  <thead>\n",
       "    <tr style=\"text-align: right;\">\n",
       "      <th></th>\n",
       "      <th>artist</th>\n",
       "      <th>song</th>\n",
       "      <th>link</th>\n",
       "      <th>lyrics</th>\n",
       "      <th>genre</th>\n",
       "    </tr>\n",
       "  </thead>\n",
       "  <tbody>\n",
       "    <tr>\n",
       "      <th>0</th>\n",
       "      <td>Mos Def</td>\n",
       "      <td>Mathematics prod. by DJ Premier</td>\n",
       "      <td>http://genius.com/Yasiin-bey-mathematics-lyrics</td>\n",
       "      <td>Beats by Su-Primo for all of my people, negroe...</td>\n",
       "      <td>rap</td>\n",
       "    </tr>\n",
       "    <tr>\n",
       "      <th>1</th>\n",
       "      <td>Mos Def</td>\n",
       "      <td>Back Home by A$AP Rocky  (Ft. Acyde &amp; A$AP Yam...</td>\n",
       "      <td>http://genius.com/A-ap-rocky-back-home-lyrics</td>\n",
       "      <td>\\nGotta find my way back home, I've been away ...</td>\n",
       "      <td>rap</td>\n",
       "    </tr>\n",
       "    <tr>\n",
       "      <th>2</th>\n",
       "      <td>Mos Def</td>\n",
       "      <td>Ms. Fat Booty prod. by Ayatollah</td>\n",
       "      <td>http://genius.com/Yasiin-bey-ms-fat-booty-lyrics</td>\n",
       "      <td>I know I can't afford to stop\\nFor one moment,...</td>\n",
       "      <td>rap</td>\n",
       "    </tr>\n",
       "    <tr>\n",
       "      <th>3</th>\n",
       "      <td>Mos Def</td>\n",
       "      <td>Respiration by Black Star  (Ft. Common) prod. ...</td>\n",
       "      <td>http://genius.com/Black-star-respiration-lyrics</td>\n",
       "      <td>\"What'd you do last night?\"\\n\"We did umm, two ...</td>\n",
       "      <td>rap</td>\n",
       "    </tr>\n",
       "    <tr>\n",
       "      <th>4</th>\n",
       "      <td>Mos Def</td>\n",
       "      <td>Two Words by Kanye West  (Ft. Freeway) prod. b...</td>\n",
       "      <td>http://genius.com/Kanye-west-two-words-lyrics</td>\n",
       "      <td>Half-Hook: Kanye West]\\nNow throw ya hands up ...</td>\n",
       "      <td>rap</td>\n",
       "    </tr>\n",
       "  </tbody>\n",
       "</table>\n",
       "</div>"
      ],
      "text/plain": [
       "    artist                                               song  \\\n",
       "0  Mos Def                    Mathematics prod. by DJ Premier   \n",
       "1  Mos Def  Back Home by A$AP Rocky  (Ft. Acyde & A$AP Yam...   \n",
       "2  Mos Def                   Ms. Fat Booty prod. by Ayatollah   \n",
       "3  Mos Def  Respiration by Black Star  (Ft. Common) prod. ...   \n",
       "4  Mos Def  Two Words by Kanye West  (Ft. Freeway) prod. b...   \n",
       "\n",
       "                                               link  \\\n",
       "0   http://genius.com/Yasiin-bey-mathematics-lyrics   \n",
       "1     http://genius.com/A-ap-rocky-back-home-lyrics   \n",
       "2  http://genius.com/Yasiin-bey-ms-fat-booty-lyrics   \n",
       "3   http://genius.com/Black-star-respiration-lyrics   \n",
       "4     http://genius.com/Kanye-west-two-words-lyrics   \n",
       "\n",
       "                                              lyrics genre  \n",
       "0  Beats by Su-Primo for all of my people, negroe...   rap  \n",
       "1  \\nGotta find my way back home, I've been away ...   rap  \n",
       "2  I know I can't afford to stop\\nFor one moment,...   rap  \n",
       "3  \"What'd you do last night?\"\\n\"We did umm, two ...   rap  \n",
       "4  Half-Hook: Kanye West]\\nNow throw ya hands up ...   rap  "
      ]
     },
     "execution_count": 15,
     "metadata": {},
     "output_type": "execute_result"
    }
   ],
   "source": [
    "df.head()"
   ]
  },
  {
   "cell_type": "code",
   "execution_count": null,
   "metadata": {
    "collapsed": false
   },
   "outputs": [],
   "source": [
    "df.info()"
   ]
  },
  {
   "cell_type": "code",
   "execution_count": 64,
   "metadata": {
    "collapsed": false
   },
   "outputs": [],
   "source": [
    "# figuring out which songs can't be correctly encoded to unicode\n",
    "# for some reason running this over and over, the list gets shorter and shorter !?!?!?\n",
    "trouble_songs = []\n",
    "for i, song in enumerate(df['lyrics']):\n",
    "    try:\n",
    "        df['lyrics'][i] = unicode(song)\n",
    "    except:\n",
    "        trouble_songs.append(i)"
   ]
  },
  {
   "cell_type": "code",
   "execution_count": 65,
   "metadata": {
    "collapsed": false
   },
   "outputs": [
    {
     "name": "stdout",
     "output_type": "stream",
     "text": [
      "[8, 27, 28, 31, 32, 35, 37, 43, 49, 54, 57, 59, 63, 73, 74, 76, 81, 84, 87, 88, 89, 90, 91, 92, 96, 97, 99, 102, 105, 106, 107, 108, 110, 120, 128, 129, 135, 136, 137, 139, 140, 144, 150, 161, 165, 166, 172, 182, 187, 189, 193, 194, 200, 205, 206, 209, 211, 215, 218, 219, 220, 222, 225, 228, 229, 230, 233, 235, 236, 238, 239, 240, 248, 249, 251, 253, 259, 260, 263, 264, 266, 269, 273, 274, 276, 284, 289, 296, 305, 383, 392, 396, 400, 406, 408, 415, 419, 420, 421, 435, 438, 440, 444, 452, 459, 464, 466, 468, 469, 471, 473, 478, 490, 492, 496, 503, 504, 515, 519, 521, 527, 534, 537]\n"
     ]
    }
   ],
   "source": [
    "print trouble_songs"
   ]
  },
  {
   "cell_type": "code",
   "execution_count": 34,
   "metadata": {
    "collapsed": false,
    "scrolled": true
   },
   "outputs": [
    {
     "name": "stdout",
     "output_type": "stream",
     "text": [
      "Mos Def --- hoéy\n",
      "\n",
      "Mos Def --- SUV’s,red\n",
      "\n"
     ]
    }
   ],
   "source": [
    "for i, song in enumerate(df['lyrics'][trouble_songs]):\n",
    "    for word in song.split():\n",
    "        try:\n",
    "            unicode(word)\n",
    "        except:\n",
    "            print df['artist'][trouble_songs[i]], '---', word\n",
    "            print"
   ]
  },
  {
   "cell_type": "code",
   "execution_count": 35,
   "metadata": {
    "collapsed": false,
    "scrolled": true
   },
   "outputs": [
    {
     "name": "stdout",
     "output_type": "stream",
     "text": [
      "<type 'str'>\n",
      "Uh huh uh huh uh huh\n",
      "Oh this takes me home\n",
      "It makes me think about sitting outside of my old home when I was younger and singing something like\n",
      "\n",
      "(K'Naan in Somali)\n",
      "Gabaryaray shuxaano\n",
      "Maro Shabeel eh xirato\n",
      "Maro qafiif eh huwato\n",
      "Magacaaga ii sheeg\n",
      "Magacayga waa Sharaf\n",
      "Sharaf, Xaaji weyaan\n",
      "Aqalada xiriirta\n",
      "Dhinac baa ka jooga\n",
      "Ala yaa usheega?\n",
      "Tinta ushaleeya?\n",
      "Naa hoéy Zamzamey\n",
      "Sabaax nuurey\n",
      "Adoo kilkiley\n",
      "Iyo\n",
      "Kaloon badanay\n",
      "Adoo xajka jira\n",
      "Xasuus badhanay!\n",
      "Saxiibtaa\n",
      "Caasho, cashaq baa dhilay\n",
      "Ugu dhambaystina\n",
      "Aniga iyo geel uba\n",
      "Ugu banaan bixin\n",
      "Waa aniga orodneey\n",
      "Nabad dheynee\n",
      "Mareekan waa laga soo waayey\n",
      "Mareekan waa laga soo waayey\n",
      "Mareekan waa laga soo waayey\n",
      "\n",
      "\n",
      "\n",
      "There are certain things fresh and certain things mish\n",
      "I got my own sound I don't sound like the rest\n",
      "And even my attire and my choice of dress\n",
      "And not long ago I don't spoke English\n",
      "My point is police pull me over a lot\n",
      "They wonder what kind of rap sheet I got\n",
      "And sometimes I take a young girl out to eat\n",
      "And hold the door open, \"Oh, you're so sweet!\"\n",
      "Of course my affection's super illustrated\n",
      "And I like to give don't reciprocate it\n",
      "Unless you could give me someone innovated\n",
      "Well lets cook it up we dont refrigerate it\n",
      "But back to the country of the educated\n",
      "Where people get robbed and they celebrate it\n",
      "\n",
      "Waa aniga orodneey\n",
      "Nabad dheynee!\n",
      "Mareekan waa laga soo waayey\n",
      "Mareekan waa laga soo waayey\n",
      "Mareekan waa laga soo waayey\n",
      "\n",
      "\n",
      "\n",
      "Maraken,my country 'tis of thee\n",
      "Sweet land for robberies\n",
      "Dope smokeand SUV’s,red meat and army greens\n",
      "Fat and frills, thrills and spills\n",
      "Eat and sleep, hump and kill\n",
      "Shop til you drop,work til you dead\n",
      "Get all you can, then get in the wind\n",
      "Outta my face on your knees\n",
      "Sleep in the mansion, shut out the streets\n",
      "Make that cake, whoop that trick\n",
      "Lick my swagger suck my sick\n",
      "Get high get low get stcky get rich\n",
      "Get yo own showget down get quick\n",
      "You slow you blow you broke your fix\n",
      "Terror dome, home swag home\n",
      "Terror dome, home swag home\n",
      "Home swag home, home swag home\n",
      "\n",
      "(Somalian(America))\n",
      "\n",
      "\n",
      "There are some things pure while certain things blur\n",
      "Dilute it with the lie and you believe when it occur\n",
      "Falsified information got my people in the stir\n",
      "We have to be in search of something equal to the cure\n",
      "Straight out the door, I come to give you more\n",
      "Lay the law keep it raw, when I speak it from the core\n",
      "Get underneath your skin like especially with the claw\n",
      "Conflicted with the rich cuz I kick it with the poor\n",
      "I laugh in the face of adversity\n",
      "Sound clashed with the bass cuz its natural to me\n",
      "But if you pay attention to the past you will see\n",
      "Not long ago you black they'd hang your ass from a tree\n",
      "Certain things things change, while some stay the same\n",
      "Some are recluse others are lovers of the game\n",
      "I'm trying to walk the lane, the Sirat al-Mustaqim\n",
      "Instead of doing things they keep you covered in the flame\n",
      "\n",
      "(Somali)\n",
      "Nanananana that shit was cool in English, but let me get that Somali verse\n",
      "(Somali)\n",
      "\n",
      "(Somali until fade out)\n",
      "\n"
     ]
    }
   ],
   "source": [
    "for song in trouble_songs:\n",
    "    print type(df['lyrics'][song])\n",
    "    print df['lyrics'][song]\n",
    "    print"
   ]
  },
  {
   "cell_type": "code",
   "execution_count": null,
   "metadata": {
    "collapsed": false
   },
   "outputs": [],
   "source": [
    "# weird windows encoding\n",
    "# not sure this is relevant\n",
    "ftfy.guess_bytes('I\\xe2\\u20ac\\u2122m')"
   ]
  },
  {
   "cell_type": "markdown",
   "metadata": {},
   "source": [
    "### Going to try some different models here"
   ]
  },
  {
   "cell_type": "code",
   "execution_count": 8,
   "metadata": {
    "collapsed": false
   },
   "outputs": [
    {
     "name": "stdout",
     "output_type": "stream",
     "text": [
      "318\n"
     ]
    }
   ],
   "source": [
    "sws = stop_words.ENGLISH_STOP_WORDS\n",
    "print len(sws)"
   ]
  },
  {
   "cell_type": "code",
   "execution_count": 9,
   "metadata": {
    "collapsed": false
   },
   "outputs": [],
   "source": [
    "cv = CountVectorizer(binary=True, stop_words=sws)\n",
    "tfidf = TfidfVectorizer(stop_words=sws)"
   ]
  },
  {
   "cell_type": "code",
   "execution_count": 10,
   "metadata": {
    "collapsed": false
   },
   "outputs": [
    {
     "ename": "ValueError",
     "evalue": "np.nan is an invalid document, expected byte or unicode string.",
     "output_type": "error",
     "traceback": [
      "\u001b[0;31m---------------------------------------------------------------------------\u001b[0m",
      "\u001b[0;31mValueError\u001b[0m                                Traceback (most recent call last)",
      "\u001b[0;32m<ipython-input-10-6c0fe4802014>\u001b[0m in \u001b[0;36m<module>\u001b[0;34m()\u001b[0m\n\u001b[0;32m----> 1\u001b[0;31m \u001b[0md\u001b[0m \u001b[0;34m=\u001b[0m \u001b[0mcv\u001b[0m\u001b[0;34m.\u001b[0m\u001b[0mfit_transform\u001b[0m\u001b[0;34m(\u001b[0m\u001b[0mdf\u001b[0m\u001b[0;34m[\u001b[0m\u001b[0;34m'lyrics'\u001b[0m\u001b[0;34m]\u001b[0m\u001b[0;34m)\u001b[0m\u001b[0;34m\u001b[0m\u001b[0m\n\u001b[0m\u001b[1;32m      2\u001b[0m \u001b[0mtd\u001b[0m \u001b[0;34m=\u001b[0m \u001b[0mtfidf\u001b[0m\u001b[0;34m.\u001b[0m\u001b[0mfit_transform\u001b[0m\u001b[0;34m(\u001b[0m\u001b[0mdf\u001b[0m\u001b[0;34m[\u001b[0m\u001b[0;34m'lyrics'\u001b[0m\u001b[0;34m]\u001b[0m\u001b[0;34m)\u001b[0m\u001b[0;34m\u001b[0m\u001b[0m\n",
      "\u001b[0;32m/Users/LucasRamadan/anaconda/lib/python2.7/site-packages/sklearn/feature_extraction/text.pyc\u001b[0m in \u001b[0;36mfit_transform\u001b[0;34m(self, raw_documents, y)\u001b[0m\n\u001b[1;32m    815\u001b[0m \u001b[0;34m\u001b[0m\u001b[0m\n\u001b[1;32m    816\u001b[0m         vocabulary, X = self._count_vocab(raw_documents,\n\u001b[0;32m--> 817\u001b[0;31m                                           self.fixed_vocabulary_)\n\u001b[0m\u001b[1;32m    818\u001b[0m \u001b[0;34m\u001b[0m\u001b[0m\n\u001b[1;32m    819\u001b[0m         \u001b[0;32mif\u001b[0m \u001b[0mself\u001b[0m\u001b[0;34m.\u001b[0m\u001b[0mbinary\u001b[0m\u001b[0;34m:\u001b[0m\u001b[0;34m\u001b[0m\u001b[0m\n",
      "\u001b[0;32m/Users/LucasRamadan/anaconda/lib/python2.7/site-packages/sklearn/feature_extraction/text.pyc\u001b[0m in \u001b[0;36m_count_vocab\u001b[0;34m(self, raw_documents, fixed_vocab)\u001b[0m\n\u001b[1;32m    750\u001b[0m         \u001b[0mindptr\u001b[0m\u001b[0;34m.\u001b[0m\u001b[0mappend\u001b[0m\u001b[0;34m(\u001b[0m\u001b[0;36m0\u001b[0m\u001b[0;34m)\u001b[0m\u001b[0;34m\u001b[0m\u001b[0m\n\u001b[1;32m    751\u001b[0m         \u001b[0;32mfor\u001b[0m \u001b[0mdoc\u001b[0m \u001b[0;32min\u001b[0m \u001b[0mraw_documents\u001b[0m\u001b[0;34m:\u001b[0m\u001b[0;34m\u001b[0m\u001b[0m\n\u001b[0;32m--> 752\u001b[0;31m             \u001b[0;32mfor\u001b[0m \u001b[0mfeature\u001b[0m \u001b[0;32min\u001b[0m \u001b[0manalyze\u001b[0m\u001b[0;34m(\u001b[0m\u001b[0mdoc\u001b[0m\u001b[0;34m)\u001b[0m\u001b[0;34m:\u001b[0m\u001b[0;34m\u001b[0m\u001b[0m\n\u001b[0m\u001b[1;32m    753\u001b[0m                 \u001b[0;32mtry\u001b[0m\u001b[0;34m:\u001b[0m\u001b[0;34m\u001b[0m\u001b[0m\n\u001b[1;32m    754\u001b[0m                     \u001b[0mj_indices\u001b[0m\u001b[0;34m.\u001b[0m\u001b[0mappend\u001b[0m\u001b[0;34m(\u001b[0m\u001b[0mvocabulary\u001b[0m\u001b[0;34m[\u001b[0m\u001b[0mfeature\u001b[0m\u001b[0;34m]\u001b[0m\u001b[0;34m)\u001b[0m\u001b[0;34m\u001b[0m\u001b[0m\n",
      "\u001b[0;32m/Users/LucasRamadan/anaconda/lib/python2.7/site-packages/sklearn/feature_extraction/text.pyc\u001b[0m in \u001b[0;36m<lambda>\u001b[0;34m(doc)\u001b[0m\n\u001b[1;32m    236\u001b[0m \u001b[0;34m\u001b[0m\u001b[0m\n\u001b[1;32m    237\u001b[0m             return lambda doc: self._word_ngrams(\n\u001b[0;32m--> 238\u001b[0;31m                 tokenize(preprocess(self.decode(doc))), stop_words)\n\u001b[0m\u001b[1;32m    239\u001b[0m \u001b[0;34m\u001b[0m\u001b[0m\n\u001b[1;32m    240\u001b[0m         \u001b[0;32melse\u001b[0m\u001b[0;34m:\u001b[0m\u001b[0;34m\u001b[0m\u001b[0m\n",
      "\u001b[0;32m/Users/LucasRamadan/anaconda/lib/python2.7/site-packages/sklearn/feature_extraction/text.pyc\u001b[0m in \u001b[0;36mdecode\u001b[0;34m(self, doc)\u001b[0m\n\u001b[1;32m    116\u001b[0m \u001b[0;34m\u001b[0m\u001b[0m\n\u001b[1;32m    117\u001b[0m         \u001b[0;32mif\u001b[0m \u001b[0mdoc\u001b[0m \u001b[0;32mis\u001b[0m \u001b[0mnp\u001b[0m\u001b[0;34m.\u001b[0m\u001b[0mnan\u001b[0m\u001b[0;34m:\u001b[0m\u001b[0;34m\u001b[0m\u001b[0m\n\u001b[0;32m--> 118\u001b[0;31m             raise ValueError(\"np.nan is an invalid document, expected byte or \"\n\u001b[0m\u001b[1;32m    119\u001b[0m                              \"unicode string.\")\n\u001b[1;32m    120\u001b[0m \u001b[0;34m\u001b[0m\u001b[0m\n",
      "\u001b[0;31mValueError\u001b[0m: np.nan is an invalid document, expected byte or unicode string."
     ]
    }
   ],
   "source": [
    "d = cv.fit_transform(df['lyrics'])\n",
    "td = tfidf.fit_transform(df['lyrics'])"
   ]
  },
  {
   "cell_type": "code",
   "execution_count": 43,
   "metadata": {
    "collapsed": false
   },
   "outputs": [
    {
     "data": {
      "text/plain": [
       "(540,)"
      ]
     },
     "execution_count": 43,
     "metadata": {},
     "output_type": "execute_result"
    }
   ],
   "source": [
    "# how is this possible?\n",
    "# its somehow regaining the dropped rows?\n",
    "df['lyrics'].shape"
   ]
  },
  {
   "cell_type": "code",
   "execution_count": 44,
   "metadata": {
    "collapsed": false
   },
   "outputs": [
    {
     "name": "stdout",
     "output_type": "stream",
     "text": [
      "<class 'pandas.core.frame.DataFrame'>\n",
      "Int64Index: 533 entries, 0 to 539\n",
      "Data columns (total 5 columns):\n",
      "artist    533 non-null object\n",
      "song      533 non-null object\n",
      "link      533 non-null object\n",
      "lyrics    533 non-null object\n",
      "genre     533 non-null object\n",
      "dtypes: object(5)\n",
      "memory usage: 25.0+ KB\n"
     ]
    }
   ],
   "source": [
    "df.info()"
   ]
  },
  {
   "cell_type": "code",
   "execution_count": 49,
   "metadata": {
    "collapsed": false
   },
   "outputs": [
    {
     "name": "stdout",
     "output_type": "stream",
     "text": [
      "(533, 5)\n",
      "(540,)\n",
      "(533,)\n"
     ]
    }
   ],
   "source": [
    "print df.shape\n",
    "print df['lyrics'].shape\n",
    "print df['genre'].shape"
   ]
  },
  {
   "cell_type": "code",
   "execution_count": 46,
   "metadata": {
    "collapsed": false
   },
   "outputs": [],
   "source": [
    "df2 = pd.DataFrame(d.todense(), columns=cv.get_feature_names())"
   ]
  },
  {
   "cell_type": "code",
   "execution_count": 47,
   "metadata": {
    "collapsed": false,
    "scrolled": true
   },
   "outputs": [
    {
     "data": {
      "text/html": [
       "<div>\n",
       "<table border=\"1\" class=\"dataframe\">\n",
       "  <thead>\n",
       "    <tr style=\"text-align: right;\">\n",
       "      <th></th>\n",
       "      <th>000</th>\n",
       "      <th>02</th>\n",
       "      <th>03</th>\n",
       "      <th>10</th>\n",
       "      <th>100</th>\n",
       "      <th>100k</th>\n",
       "      <th>103</th>\n",
       "      <th>106</th>\n",
       "      <th>10x</th>\n",
       "      <th>11</th>\n",
       "      <th>...</th>\n",
       "      <th>zone</th>\n",
       "      <th>zones</th>\n",
       "      <th>zonin</th>\n",
       "      <th>zoning</th>\n",
       "      <th>zoo</th>\n",
       "      <th>zoogang</th>\n",
       "      <th>zoom</th>\n",
       "      <th>zorro</th>\n",
       "      <th>zuckerbergs</th>\n",
       "      <th>zulu</th>\n",
       "    </tr>\n",
       "  </thead>\n",
       "  <tbody>\n",
       "    <tr>\n",
       "      <th>0</th>\n",
       "      <td>0</td>\n",
       "      <td>0</td>\n",
       "      <td>0</td>\n",
       "      <td>1</td>\n",
       "      <td>0</td>\n",
       "      <td>0</td>\n",
       "      <td>0</td>\n",
       "      <td>0</td>\n",
       "      <td>0</td>\n",
       "      <td>0</td>\n",
       "      <td>...</td>\n",
       "      <td>0</td>\n",
       "      <td>0</td>\n",
       "      <td>0</td>\n",
       "      <td>0</td>\n",
       "      <td>0</td>\n",
       "      <td>0</td>\n",
       "      <td>0</td>\n",
       "      <td>0</td>\n",
       "      <td>0</td>\n",
       "      <td>0</td>\n",
       "    </tr>\n",
       "    <tr>\n",
       "      <th>1</th>\n",
       "      <td>0</td>\n",
       "      <td>0</td>\n",
       "      <td>0</td>\n",
       "      <td>0</td>\n",
       "      <td>0</td>\n",
       "      <td>0</td>\n",
       "      <td>0</td>\n",
       "      <td>0</td>\n",
       "      <td>0</td>\n",
       "      <td>0</td>\n",
       "      <td>...</td>\n",
       "      <td>0</td>\n",
       "      <td>0</td>\n",
       "      <td>0</td>\n",
       "      <td>0</td>\n",
       "      <td>0</td>\n",
       "      <td>0</td>\n",
       "      <td>0</td>\n",
       "      <td>0</td>\n",
       "      <td>0</td>\n",
       "      <td>0</td>\n",
       "    </tr>\n",
       "    <tr>\n",
       "      <th>2</th>\n",
       "      <td>0</td>\n",
       "      <td>0</td>\n",
       "      <td>0</td>\n",
       "      <td>0</td>\n",
       "      <td>0</td>\n",
       "      <td>0</td>\n",
       "      <td>0</td>\n",
       "      <td>0</td>\n",
       "      <td>0</td>\n",
       "      <td>0</td>\n",
       "      <td>...</td>\n",
       "      <td>0</td>\n",
       "      <td>0</td>\n",
       "      <td>0</td>\n",
       "      <td>0</td>\n",
       "      <td>0</td>\n",
       "      <td>0</td>\n",
       "      <td>0</td>\n",
       "      <td>0</td>\n",
       "      <td>0</td>\n",
       "      <td>0</td>\n",
       "    </tr>\n",
       "    <tr>\n",
       "      <th>3</th>\n",
       "      <td>0</td>\n",
       "      <td>0</td>\n",
       "      <td>0</td>\n",
       "      <td>0</td>\n",
       "      <td>0</td>\n",
       "      <td>0</td>\n",
       "      <td>0</td>\n",
       "      <td>0</td>\n",
       "      <td>0</td>\n",
       "      <td>0</td>\n",
       "      <td>...</td>\n",
       "      <td>0</td>\n",
       "      <td>0</td>\n",
       "      <td>0</td>\n",
       "      <td>0</td>\n",
       "      <td>0</td>\n",
       "      <td>0</td>\n",
       "      <td>0</td>\n",
       "      <td>0</td>\n",
       "      <td>0</td>\n",
       "      <td>0</td>\n",
       "    </tr>\n",
       "    <tr>\n",
       "      <th>4</th>\n",
       "      <td>0</td>\n",
       "      <td>0</td>\n",
       "      <td>0</td>\n",
       "      <td>0</td>\n",
       "      <td>0</td>\n",
       "      <td>0</td>\n",
       "      <td>0</td>\n",
       "      <td>0</td>\n",
       "      <td>0</td>\n",
       "      <td>0</td>\n",
       "      <td>...</td>\n",
       "      <td>0</td>\n",
       "      <td>0</td>\n",
       "      <td>0</td>\n",
       "      <td>0</td>\n",
       "      <td>0</td>\n",
       "      <td>0</td>\n",
       "      <td>0</td>\n",
       "      <td>0</td>\n",
       "      <td>0</td>\n",
       "      <td>0</td>\n",
       "    </tr>\n",
       "  </tbody>\n",
       "</table>\n",
       "<p>5 rows × 10898 columns</p>\n",
       "</div>"
      ],
      "text/plain": [
       "   000  02  03  10  100  100k  103  106  10x  11  ...   zone  zones  zonin  \\\n",
       "0    0   0   0   1    0     0    0    0    0   0  ...      0      0      0   \n",
       "1    0   0   0   0    0     0    0    0    0   0  ...      0      0      0   \n",
       "2    0   0   0   0    0     0    0    0    0   0  ...      0      0      0   \n",
       "3    0   0   0   0    0     0    0    0    0   0  ...      0      0      0   \n",
       "4    0   0   0   0    0     0    0    0    0   0  ...      0      0      0   \n",
       "\n",
       "   zoning  zoo  zoogang  zoom  zorro  zuckerbergs  zulu  \n",
       "0       0    0        0     0      0            0     0  \n",
       "1       0    0        0     0      0            0     0  \n",
       "2       0    0        0     0      0            0     0  \n",
       "3       0    0        0     0      0            0     0  \n",
       "4       0    0        0     0      0            0     0  \n",
       "\n",
       "[5 rows x 10898 columns]"
      ]
     },
     "execution_count": 47,
     "metadata": {},
     "output_type": "execute_result"
    }
   ],
   "source": [
    "df2.head()"
   ]
  },
  {
   "cell_type": "code",
   "execution_count": 48,
   "metadata": {
    "collapsed": false
   },
   "outputs": [
    {
     "name": "stdout",
     "output_type": "stream",
     "text": [
      "<class 'pandas.core.frame.DataFrame'>\n",
      "Int64Index: 540 entries, 0 to 539\n",
      "Columns: 10898 entries, 000 to zulu\n",
      "dtypes: int64(10898)\n",
      "memory usage: 44.9 MB\n"
     ]
    }
   ],
   "source": [
    "df2.info()"
   ]
  },
  {
   "cell_type": "code",
   "execution_count": 68,
   "metadata": {
    "collapsed": false
   },
   "outputs": [],
   "source": [
    "bnb = BernoulliNB()\n",
    "mnb = MultinomialNB()\n",
    "gnb = GaussianNB()"
   ]
  },
  {
   "cell_type": "code",
   "execution_count": 66,
   "metadata": {
    "collapsed": false
   },
   "outputs": [],
   "source": [
    "X_train, X_test, y_train, y_test = train_test_split(d.todense(), df['genre'])"
   ]
  },
  {
   "cell_type": "code",
   "execution_count": 69,
   "metadata": {
    "collapsed": false
   },
   "outputs": [
    {
     "data": {
      "text/plain": [
       "BernoulliNB(alpha=1.0, binarize=0.0, class_prior=None, fit_prior=True)"
      ]
     },
     "execution_count": 69,
     "metadata": {},
     "output_type": "execute_result"
    }
   ],
   "source": [
    "bnb.fit(X_train, y_train)"
   ]
  },
  {
   "cell_type": "code",
   "execution_count": 70,
   "metadata": {
    "collapsed": false
   },
   "outputs": [
    {
     "data": {
      "text/plain": [
       "0.88888888888888884"
      ]
     },
     "execution_count": 70,
     "metadata": {},
     "output_type": "execute_result"
    }
   ],
   "source": [
    "# already got a ~90% accurate model\n",
    "# try CV now\n",
    "bnb.score(X_test, y_test)"
   ]
  },
  {
   "cell_type": "code",
   "execution_count": 71,
   "metadata": {
    "collapsed": false
   },
   "outputs": [
    {
     "name": "stdout",
     "output_type": "stream",
     "text": [
      "0.844444444444\n"
     ]
    }
   ],
   "source": [
    "# cross-val scores\n",
    "print cross_val_score(bnb, d.todense(), df['genre'], cv=10).mean()"
   ]
  },
  {
   "cell_type": "code",
   "execution_count": 72,
   "metadata": {
    "collapsed": false
   },
   "outputs": [
    {
     "name": "stdout",
     "output_type": "stream",
     "text": [
      "BernoulliNB(alpha=1.0, binarize=0.0, class_prior=None, fit_prior=True)\n",
      "0.844444444444\n",
      "MultinomialNB(alpha=1.0, class_prior=None, fit_prior=True)\n",
      "0.818518518519\n",
      "GaussianNB()\n",
      "0.674074074074\n"
     ]
    }
   ],
   "source": [
    "for model in [bnb, mnb, gnb]:\n",
    "    print model\n",
    "    print cross_val_score(model, d.todense(), df['genre'], cv=10).mean()"
   ]
  },
  {
   "cell_type": "code",
   "execution_count": null,
   "metadata": {
    "collapsed": true
   },
   "outputs": [],
   "source": [
    "# adding stop words actually lowers accuracy by ~5%"
   ]
  },
  {
   "cell_type": "code",
   "execution_count": null,
   "metadata": {
    "collapsed": true
   },
   "outputs": [],
   "source": [
    "# now think about stemming, removing stop words, mojibake, tf-idf\n",
    "# cram into decision tree to get the most important features\n",
    "# etc"
   ]
  },
  {
   "cell_type": "code",
   "execution_count": 100,
   "metadata": {
    "collapsed": false
   },
   "outputs": [],
   "source": [
    "def print_importants(model, top=10):\n",
    "    importances = model.feature_importances_\n",
    "    indices = np.argsort(importances)[::-1]\n",
    "    important_words = df2.columns[indices]\n",
    "    print important_words[:top]"
   ]
  },
  {
   "cell_type": "code",
   "execution_count": 77,
   "metadata": {
    "collapsed": true
   },
   "outputs": [],
   "source": [
    "X = d.todense()\n",
    "y = df['genre']"
   ]
  },
  {
   "cell_type": "code",
   "execution_count": 92,
   "metadata": {
    "collapsed": false
   },
   "outputs": [],
   "source": [
    "y = [1 if v=='rap' else 0 for v in df['genre']]"
   ]
  },
  {
   "cell_type": "markdown",
   "metadata": {},
   "source": [
    "### Messing with some ExtremeTrees"
   ]
  },
  {
   "cell_type": "code",
   "execution_count": 73,
   "metadata": {
    "collapsed": true
   },
   "outputs": [],
   "source": [
    "erf = ExtraTreesClassifier(n_estimators=250, random_state=0)"
   ]
  },
  {
   "cell_type": "code",
   "execution_count": 102,
   "metadata": {
    "collapsed": false
   },
   "outputs": [
    {
     "name": "stdout",
     "output_type": "stream",
     "text": [
      "Index([u'niggas', u'shit', u'nigga', u'ain', u'yo', u'fuck', u'em', u'ya',\n",
      "       u'gon', u'gotta'],\n",
      "      dtype='object')\n"
     ]
    }
   ],
   "source": [
    "print_importants(erf)"
   ]
  },
  {
   "cell_type": "code",
   "execution_count": 82,
   "metadata": {
    "collapsed": false
   },
   "outputs": [
    {
     "name": "stdout",
     "output_type": "stream",
     "text": [
      "0.894444444444\n"
     ]
    }
   ],
   "source": [
    "# Extreme Trees RF does better than NB --- expected result\n",
    "print cross_val_score(erf, X, y, cv=10).mean()"
   ]
  },
  {
   "cell_type": "markdown",
   "metadata": {},
   "source": [
    "### Trying with a plain RandomForest"
   ]
  },
  {
   "cell_type": "code",
   "execution_count": 103,
   "metadata": {
    "collapsed": false
   },
   "outputs": [],
   "source": [
    "rf = RandomForestClassifier()"
   ]
  },
  {
   "cell_type": "code",
   "execution_count": 104,
   "metadata": {
    "collapsed": false
   },
   "outputs": [
    {
     "name": "stdout",
     "output_type": "stream",
     "text": [
      "0.864814814815\n"
     ]
    }
   ],
   "source": [
    "print cross_val_score(rf, X, y, cv=10).mean()"
   ]
  },
  {
   "cell_type": "code",
   "execution_count": 101,
   "metadata": {
    "collapsed": false
   },
   "outputs": [
    {
     "name": "stdout",
     "output_type": "stream",
     "text": [
      "Index([u'gotta', u'ya', u'ass', u'ain', u'black', u'fuck', u'shit', u'hood',\n",
      "       u'man', u'say'],\n",
      "      dtype='object')\n"
     ]
    }
   ],
   "source": [
    "print_importants(rf)"
   ]
  },
  {
   "cell_type": "markdown",
   "metadata": {},
   "source": [
    "### Now try with Gradient Boosting"
   ]
  },
  {
   "cell_type": "code",
   "execution_count": 96,
   "metadata": {
    "collapsed": true
   },
   "outputs": [],
   "source": [
    "gbr = GradientBoostingClassifier()"
   ]
  },
  {
   "cell_type": "code",
   "execution_count": 97,
   "metadata": {
    "collapsed": false
   },
   "outputs": [
    {
     "data": {
      "text/plain": [
       "GradientBoostingClassifier(init=None, learning_rate=0.1, loss='deviance',\n",
       "              max_depth=3, max_features=None, max_leaf_nodes=None,\n",
       "              min_samples_leaf=1, min_samples_split=2,\n",
       "              min_weight_fraction_leaf=0.0, n_estimators=100,\n",
       "              presort='auto', random_state=None, subsample=1.0, verbose=0,\n",
       "              warm_start=False)"
      ]
     },
     "execution_count": 97,
     "metadata": {},
     "output_type": "execute_result"
    }
   ],
   "source": [
    "gbr.fit(X_train, y_train)"
   ]
  },
  {
   "cell_type": "code",
   "execution_count": 98,
   "metadata": {
    "collapsed": false
   },
   "outputs": [
    {
     "data": {
      "text/plain": [
       "0.96296296296296291"
      ]
     },
     "execution_count": 98,
     "metadata": {},
     "output_type": "execute_result"
    }
   ],
   "source": [
    "gbr.score(X_test, y_test)"
   ]
  },
  {
   "cell_type": "code",
   "execution_count": 106,
   "metadata": {
    "collapsed": false
   },
   "outputs": [
    {
     "name": "stdout",
     "output_type": "stream",
     "text": [
      "0.862962962963\n"
     ]
    }
   ],
   "source": [
    "print cross_val_score(gbr, X, y, cv=10, n_jobs=-1).mean()"
   ]
  },
  {
   "cell_type": "markdown",
   "metadata": {},
   "source": [
    "### Next up"
   ]
  },
  {
   "cell_type": "code",
   "execution_count": null,
   "metadata": {
    "collapsed": true
   },
   "outputs": [],
   "source": [
    "# could try doing SVM, might need to grid search parameters\n",
    "# would consider doing non-binary counts for data!"
   ]
  },
  {
   "cell_type": "code",
   "execution_count": null,
   "metadata": {
    "collapsed": true
   },
   "outputs": [],
   "source": []
  }
 ],
 "metadata": {
  "kernelspec": {
   "display_name": "Python 2",
   "language": "python",
   "name": "python2"
  },
  "language_info": {
   "codemirror_mode": {
    "name": "ipython",
    "version": 2
   },
   "file_extension": ".py",
   "mimetype": "text/x-python",
   "name": "python",
   "nbconvert_exporter": "python",
   "pygments_lexer": "ipython2",
   "version": "2.7.11"
  }
 },
 "nbformat": 4,
 "nbformat_minor": 0
}
