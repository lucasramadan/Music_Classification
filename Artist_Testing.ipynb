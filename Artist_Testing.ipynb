{
 "cells": [
  {
   "cell_type": "code",
   "execution_count": 2,
   "metadata": {
    "collapsed": true
   },
   "outputs": [],
   "source": [
    "import requests\n",
    "from pprint import pprint"
   ]
  },
  {
   "cell_type": "code",
   "execution_count": 7,
   "metadata": {
    "collapsed": false
   },
   "outputs": [],
   "source": [
    "artist_list = [ \n",
    "                {'genre': 'rap', 'name': 'Mos Def'},\n",
    "                {'genre':'rap', 'name': 'Young Jeezy'},\n",
    "                {'genre':'rap', 'name': 'Eminem'},\n",
    "                {'genre': 'rap', 'name': 'Kendrick Lamar'},\n",
    "                {'genre': 'rap', 'name': 'Snoop Dogg'},\n",
    "                {'genre': 'rap', 'name': 'Nas'},\n",
    "                {'genre': 'rap', 'name': 'Common'},\n",
    "                {'genre': 'rap', 'name': 'Kanye West'},\n",
    "                {'genre': 'rap', 'name': '2 Chainz'},\n",
    "                {'genre': 'rap', 'name': 'Talib Kweli'},\n",
    "                {'genre': 'rock', 'name': 'The Who'},\n",
    "                {'genre': 'rock', 'name': 'Nirvana'},\n",
    "                {'genre': 'rock', 'name': 'Led Zeppelin'},\n",
    "                {'genre': 'rock', 'name': 'Aerosmith'},\n",
    "                {'genre': 'rock', 'name': 'ACDC'},\n",
    "                {'genre': 'rock', 'name': 'Queen'},\n",
    "                {'genre': 'rock', 'name': 'Pink Floyd'},\n",
    "                {'genre': 'rock', 'name': 'The Beatles'},\n",
    "                {'genre': 'rock', 'name': \"Guns N' Roses\"},\n",
    "                {'genre': 'rock', 'name': 'Rolling Stones'}\n",
    "               ]"
   ]
  },
  {
   "cell_type": "code",
   "execution_count": 8,
   "metadata": {
    "collapsed": false
   },
   "outputs": [
    {
     "name": "stdout",
     "output_type": "stream",
     "text": [
      "The Who DOES exist\n",
      "Nirvana DOES exist\n",
      "Led Zeppelin DOES exist\n",
      "Aerosmith DOES exist\n",
      "ACDC DOES exist\n",
      "Queen DOES exist\n",
      "Pink Floyd DOES exist\n",
      "The Beatles DOES exist\n",
      "Guns N' Roses DOES exist\n",
      "Rolling Stones DOES exist\n"
     ]
    }
   ],
   "source": [
    "# testing to see if the Artists exist on Genius\n",
    "ai_link = 'http://genius-api.com/api/artistInfo'\n",
    "for artist_dict in artist_list:\n",
    "    try:\n",
    "        if requests.post(ai_link, data = artist_dict).json():\n",
    "            print \"%s DOES exist\" % artist_dict['name']\n",
    "        pass\n",
    "    except: \n",
    "        print \"%s DOES NOT exist\" % artist_dict['name']\n",
    "        pass"
   ]
  },
  {
   "cell_type": "code",
   "execution_count": 9,
   "metadata": {
    "collapsed": false,
    "scrolled": false
   },
   "outputs": [
    {
     "name": "stdout",
     "output_type": "stream",
     "text": [
      "Mos Def songs exist\n",
      "[u'Mathematics prod. by DJ Premier', u'Back Home by A$AP Rocky  (Ft. Acyde & A$AP Yams) prod. by A$AP Rocky, DDot Omen & Thelonious Martin', u'Ms. Fat Booty prod. by Ayatollah', u'Respiration by Black Star  (Ft. Common) prod. by Hi-Tek', u'Two Words by Kanye West  (Ft. Freeway) prod. by Kanye West', u'Drunk and Hot Girls by Kanye West  prod. by Jon Brion & Kanye West', u'Auditorium (Ft. Slick Rick) prod. by Madlib', u'All Praise Due prod. by Adlib', u\"America by K'naan  (Ft. Chali 2na)\", u'An Open Letter From Mos Def', u'Astronomy (8th Light) by Black Star  (Ft. Weldon Irvine) prod. by Da Beatminerz', u'A Tree Never Grown (Ft. A.L., Fre, Grafh, Jane Doe, Jean Grae, J-Live, Kofi Taha, Rubix, Tame One & Wordsworth) prod. by 88 Keys', u'Auditorium (Ft. Slick Rick) prod. by Madlib', u'Back Home by A$AP Rocky  (Ft. Acyde & A$AP Yams) prod. by A$AP Rocky, DDot Omen & Thelonious Martin', u'Basquiat Ghostwriter', u'B-Boy Document 99 by The High & Mighty  (Ft. Skillz) prod. by DJ Mighty Mi', u'B Boys Will B Boys by Black Star  prod. by Ge-ology', u'Beauty In The Dark (Ft. The Isley Brothers)', u'Bedstuy Parade & Funeral March', u'Beef prod. by Minnesota', u'BET Cypher (Ft. Black Thought & Eminem)', u'Bey', u'Big Brother Beat by De La Soul  prod. by Skeff Anslem', u'Bin Laden by Immortal Technique  (Ft. Jadakiss)', u'Black Jesus prod. by Mannie Fresh', u'Black on Both Sides [Credits]', u'Black Radio by Robert Glasper']\n",
      "\n",
      "Young Jeezy songs exist\n",
      "[u'Church In These Streets [Tracklist + Album Cover]', u'My Nigga by YG  (Ft. Rich Homie Quan) prod. by DJ Mustard & Mikely Adams', u'Church In These Streets prod. by Zaytoven', u'Sweet Life (Ft. Janelle Mon\\xe1e) prod. by C4', u'Grind State', u'God prod. by Southside On The Track & TM88', u'Gold Bottles prod. by London On Da Track', u'100 Million by Birdman  (Ft. Lil Wayne & Rick Ross) prod. by Cool & Dre', u'1/4 Block', u'24 - 23', u\".38 (Ft. Freddie Gibbs) prod. by Lil' Lody\", u'3 A.M. (Ft. Timbaland) prod. by Timbaland', u'4 Kings by Young Buck  (Ft. Jazze Pha, Pimp C & T.I.) prod. by Jazze Pha', u'4 What (Ft. DJ Drama, Juicy J & Yo Gotti)', u'4 Zones prod. by Mike WiLL Made It', u'5000 Ones by DJ Drama  (Ft. Nelly, Puff Daddy, T.I., Twista, Willie the Kid & Yung Joc) prod. by Jazze Pha', u'About The Money (Remix) by T.I.  (Ft. Lil Wayne & Young Thug) prod. by London On Da Track', u'Act Right by Yo Gotti  (Ft. YG) prod. by P-Lo', u'Addicted (Ft. T.I. & YG) prod. by Childish Major', u\"Ain't No Way Around It (Remix) by DJ Drama  (Ft. Big Boi & Future)\", u'Air Forces 2', u'Air Forces (Bonus Track) prod. by Shawty Redd', u'All About The Money Remix by Troy Ave  (Ft. Rick Ross) prod. by Roofeeo & Yankee', u'All Gold Everything (Remix) by Trinidad James  (Ft. 2 Chainz & T.I.)', u'All She Wants by Ne-Yo', u'All The Money (Ft. 211) prod. by Lex Luger', u'All The Same (Ft. E-40) prod. by DJ Mustard']\n",
      "\n",
      "Eminem songs exist\n",
      "[u'The Hills (Eminem Remix) by The Weeknd  prod. by Cameron walker, Illangelo & Mano', u'Lose Yourself prod. by Jeff Bass & Luis Resto', u'Rap God prod. by DVLP', u'Kings Never Die (Ft. Gwen Stefani) prod. by DJ Khalil', u'Best Friend by Yelawolf  prod. by Will Power', u'Phenomenal prod. by Luis Resto', u'Renegade by Jay Z', u'1997 Rap Olympics', u'1999 prod. by Luis Resto', u'2012 Something From Nothing: Art of Rap Freestyle', u'2.0 Boys (Ft. Slaughterhouse & Yelawolf) prod. by K.P. & Will Power', u'25 To Life prod. by Danny Keyz & DJ Khalil', u'313 (Ft. Eye-Kyu) prod. by Jeff Bass & Mr. Porter', u'3 6 5 (Ft. Skam)', u'3 a.m. prod. by Dr. Dre', u'3hree6ix5ive by Oldworldisorder  prod. by DJ Spinna', u'3 Verses', u'4 Verses', u'50 Ways', u'5-Star Generals by Shabaam Sahdeeq  (Ft. A.L., Kwest Tha Madd Lad & Skam) prod. by DJ Spinna', u'6 in the Morning by D12', u'8 Mile', u'8 mile - 313 Freestyle', u'8 Mile Background Music (Ft. B-Rabbit & Rap Genius)', u'8 Mile: Final Battle (Ft. Papa Doc)', u\"8 Mile: Lily's Lullaby\", u'8 Mile Road']\n",
      "\n",
      "Kendrick Lamar songs exist\n",
      "[u'Black Friday prod. by Vinylz', u'Alright prod. by Pharrell Williams & Sounwave', u'King Kunta prod. by Sounwave & Terrace Martin', u'\\u200bm.A.A.d city (Ft. MC Eiht) prod. by Sounwave, Terrace Martin & T.H.C', u'Swimming Pools (Drank) prod. by T-Minus', u'Fuckin\\' Problems by A$AP Rocky  (Ft. 2 Chainz & Drake) prod. by Drake & Noah \"40\" Shebib', u'These Walls (Ft. Anna Wise, Bilal & Thundercat) prod. by Larrance Dopson, Sounwave & Terrace Martin', u'100 by Big Sean  (Ft. James Fauntleroy & Royce Da 5\\'9\") prod. by DJ Don Cannon', u'100 Favors by Rich Gang  (Ft. Birdman & Detail) prod. by Detail', u'15th century magic by Trey Songz  (Ft. Drake) prod. by Atlanta studios & Cantogan Studios', u'1 Train by A$AP Rocky  (Ft. Action Bronson, Big KRIT, Danny Brown, Joey BADA$$ & Yelawolf) prod. by Hit-Boy', u'2013 Yeezus Tour Dates by Kanye West', u'25 by Punch', u'2DopeBoyz Freestyle', u'2Nite by Dr. Dre  (Ft. Jeremih)', u'3 Minutes of Watts (Ft. Jay Rock)', u\"6'7 (Ft. ScHoolboy Q)\", u'A1 Everything by Meek Mill  prod. by Syk Sense', u\"Ab-Soul's Outro (Ft. Ab-Soul) prod. by Terrace Martin\", u'Act Tuff by Jay Rock  prod. by Dave Free', u'A.D.H.D prod. by Sounwave', u\"Ain't That Funkin' Kinda Hard On You? (Remix) by Funkadelic  prod. by George Clinton & Louie Vega\", u'Alien Girl (Today With Her) prod. by Sounwave', u'A Little Appalled prod. by Kanye West, Mike Dean & No I.D.', u'All Day by Kanye West  (Ft. Allan Kingdom, Paul McCartney & Theophilus London) prod. by 88 Keys, Allen Ritter, Charlie Heat, French Montana, Mike Dean, Noah Goldstein, Puff Daddy, Q-Tip & Velous', u'All Day (Demo) by Kanye West  (Ft. Paul McCartney & Theophilus London)', u'All Day (Remix)']\n",
      "\n",
      "Snoop Dogg songs exist\n",
      "[u'Professional Rapper by Lil Dicky  prod. by Al LaVine', u\"Drop It Like It's Hot (Ft. Pharrell Williams) prod. by The Neptunes\", u'Nuthin\\' but a \"G\" Thang by Dr. Dre  prod. by Dr. Dre', u'Institutionalized by Kendrick Lamar  (Ft. Anna Wise & Bilal) prod. by Rahki & Tommy Black', u'Still D.R.E. by Dr. Dre  prod. by Dr. Dre & Mel-Man', u'The Next Episode by Dr. Dre  (Ft. Kurupt & Nate Dogg) prod. by Dr. Dre', u'Fuck Wit Dre Day by Dr. Dre  prod. by Dr. Dre', u\"10 Lil' Crips prod. by The Neptunes\", u'1,2 1,2 by Raekwon  prod. by Scoop DeVille', u'1800 (Ft. Lil Jon) prod. by Lil Jon', u'187 (Deep Cover Remix) by Dr. Dre  prod. by Dr. Dre', u'1 AM by YG  prod. by Metro Boomin', u'1Question? by 7 Days of Funk  (Ft. Steve Arrington) prod. by D\\u0101M-FunK', u'2001 prod. by DJ Pooh', u'20 Minutes (Ft. Goldie Loc) prod. by Goldie Loc', u'21 Jumpstreet (Ft. Tray Deee) prod. by Daz Dillinger', u'21st Street (Remix) by ILoveMakonnen  prod. by DJ Spinz & Dun Deal', u'2 Minute Warning prod. by Terrace Martin', u'2 of Amerikaz Most Wanted by 2Pac  prod. by Daz Dillinger', u'31 Flavors (Ft. Kurupt)', u'630 by Wiz Khalifa', u'6 in the Morning by Raven Felix  prod. by Tekneek', u'9MM by David Banner  (Ft. Akon & Lil Wayne) prod. by Akon', u'A Bitch I Knew prod. by DJ Battlecat & Rhythm D', u'Afro Puffs by The Lady of Rage  prod. by Daz Dillinger & Dr. Dre', u'Afro Puffs (Extended Remix) by The Lady of Rage  prod. by Daz Dillinger & Dr. Dre', u\"Ain't No Fun (If the Homies Can't Have None) (Ft. Kurupt, Nanci Fletcher, Nate Dogg & Warren G) prod. by Dr. Dre\"]\n",
      "\n",
      "Nas songs exist\n",
      "[u'We Are by Justin Bieber', u'N.Y. State of Mind prod. by DJ Premier', u'Ether prod. by Ron Browz', u\"Life's a Bitch (Ft. AZ) prod. by L.E.S.\", u'The World Is Yours prod. by Pete Rock', u'Patience (Sabali) (Ft. Damian Marley) prod. by Stephen Marley', u'The Message prod. by Trackmasters', u'1996 Freestyle', u'2nd Childhood prod. by DJ Premier', u'48 by Tyler, The Creator  (Ft. Frank Ocean) prod. by Tyler, The Creator', u'96 Clue Freestyle (Ft. Femme Fatale, Mary J. Blige, Nature & N.O.R.E.)', u'96 Freestyle (Ft. Cormega)', u'Accident Murderers (Ft. Rick Ross) prod. by No I.D.', u'Accident Murderers (Remix) (Ft. Rick Ross & Ryan Leslie)', u'Across the Track by Papoose', u'Affirmative Action (Ft. AZ, Cormega & Foxy Brown) prod. by Dave Atkinson & Trackmasters', u'Affirmative Action II by AZ  (Ft. Cormega & Foxy Brown) prod. by Dave Atkinson & Trackmasters', u\"Africa Must Wake Up (Ft. Damian Marley & K'naan) prod. by Damian Marley\", u'Album Intro prod. by Trackmasters', u'America prod. by StarGate', u'American Way (Ft. Kelis) prod. by Q-Tip', u'A Message To The Feds, Sincerely, We The People prod. by Chucky Thompson, L.E.S. & Salaam Remi', u'Amongst Kings', u'Analyze This by Jay Z  (Ft. Lord Tariq) prod. by Pete Rock', u'Ancient People by Damian Marley  (Ft. Junior Reid)', u'Ancient People (Ft. Damian Marley) prod. by Damian Marley & Junior Reid', u'Another Black Girl Lost']\n",
      "\n",
      "Common songs exist\n",
      "[u'The Light prod. by J Dilla', u'Get Em High by Kanye West  (Ft. Talib Kweli) prod. by Kanye West', u'Glory by John Legend  prod. by John Legend', u'I Used to Love H.E.R. prod. by No I.D.', u'Speak To Em by Lil Bibby  prod. by Jake One', u\"The Morning by Kanye West  (Ft. 2 Chainz, CyHi The Prynce, D'Banj, Kid Cudi, Pusha T & Raekwon) prod. by Jeff Bhasker, Kanye West, !llmind & Travi$ Scott\", u'Love Is... prod. by J Dilla', u'1, 2 Many (Ft. Dug Infinite) prod. by Dug Infinite', u'16 Bars prod. by No I.D.', u'1-9-9-9 (Ft. Sadat X & Talib Kweli) prod. by Hi-Tek', u'7 Deadly Sins prod. by No I.D.', u'8 Minutes to Sunrise (Ft. Jill Scott) prod. by Andre Harris', u'Act Too.. The Love of My Life by The Roots  prod. by James Poyser & Questlove', u'A Dream (Ft. \\u200bwill.i.am) prod. by \\u200bwill.i.am', u'A Film Called (Pimp) (Ft. Bilal & MC Lyte) prod. by J Dilla', u'A Freestyle Song by KRS-ONE', u'A Letter to the Law', u'All Night Long (Ft. Erykah Badu) prod. by The Roots', u'Angel by The Game  prod. by Kanye West', u'Announcement (Ft. Pharrell Williams) prod. by The Neptunes', u'Anonymous by RaKalid  (Ft. Chino Vegaa)', u'Another Wasted Nite With...', u'Any Given Sunday (Ft. Jamie Foxx & MC Guru)', u'A Penny For My Thoughts prod. by No I.D.', u'Aquarius prod. by James Poyser, J Dilla, Pino Palladino & Questlove', u'A Song for Assata (Ft. Cee-Lo Green) prod. by James Poyser', u'Back Home by Fort Minor  (Ft. Styles of Beyond) prod. by Mike Shinoda']\n",
      "\n",
      "Kanye West songs exist\n",
      "[u'Tell Your Friends by The Weeknd  prod. by Che Pope, Illangelo, Mike Dean & The Weeknd', u'Blessings by Big Sean  (Ft. Drake) prod. by Boi-1da & Vinylz', u\"I Don't Fuck With You by Big Sean  (Ft. E-40) prod. by DJ Dahi & DJ Mustard\", u'One Man Can Change the World by Big Sean  (Ft. John Legend) prod. by Amaire Johnson', u'Monster (Ft. Bon Iver, Jay Z, Nicki Minaj & Rick Ross) prod. by Mike Dean & Plain Pat', u'Niggas in Paris (Ft. Jay Z) prod. by Anthony Kilhoffer, Hit-Boy & Mike Dean', u'Gold Digger (Ft. Jamie Foxx) prod. by Jon Brion', u\"'03 Bonnie & Clyde by Jay Z  (Ft. Beyonc\\xe9)\", u\"'03 Till Infinity by Consequence\", u'1996 Fat Beats Freestyle', u'2002 Unreleased Freestyle', u'2013 Yeezus Tour Dates (Ft. Kendrick Lamar)', u'2013 Zane Lowe BBC Radio Interview Part 1 (Ft. Zane Lowe)', u'2013 Zane Lowe BBC Radio Interview Part 2 (Ft. Zane Lowe)', u'2014 Yeezus Tour Dates', u'2015 BET Honors Acceptance Speech', u'2015 Zane Lowe BBC Radio Interview (Ft. Zane Lowe)', u'3/3/15 Show at Koko Setlist', u'40 Mill by Tyga  prod. by Mike Dean', u'47th Annual Grammy Speech', u'57th Annual Grammy After Party Stream of Consciousness', u'#9 Kanye West - Yeezus by Rock Genius  (Ft. Spinelli & \\u200bstreetlights)', u'A Concert for Hurricane Relief PSA - \"George Bush Doesn\\'t Care About Black People\" (Ft. George W. Bush & Mike Myers)', u'Addiction prod. by Jon Brion', u'A Dream by Jay Z  (Ft. Faith Evans & The Notorious B.I.G.)', u'A Little Appalled by Kendrick Lamar  prod. by Mike Dean & No I.D.', u'All Day (Ft. Allan Kingdom, Paul McCartney & Theophilus London) prod. by 88 Keys, Allen Ritter, Charlie Heat, French Montana, Mike Dean, Noah Goldstein, Puff Daddy, Q-Tip & Velous']\n",
      "\n",
      "2 Chainz songs exist\n",
      "[u'Fuckin\\' Problems by A$AP Rocky  (Ft. Drake & Kendrick Lamar) prod. by Drake & Noah \"40\" Shebib', u'Watch Out prod. by FKi', u'3500 by Travi$ Scott  (Ft. Future) prod. by Allen Ritter, Mano, Metro Boomin, Mike Dean & Zaytoven', u'All Me by Drake  (Ft. Big Sean) prod. by KeY Wane & Noah \"40\" Shebib', u'Mercy by Kanye West  (Ft. Big Sean & Pusha T) prod. by Hudson Mohawke, Kanye West, Lifted, Mike Dean & Mike WiLL Made It', u'Valet by Eric Bellinger  (Ft. Fetty Wap)', u'Birthday Song (Ft. Kanye West) prod. by Anthony Kilhoffer, BWheezy, Kanye West, Lifted, Mike Dean & Sonny Digital', u'100 by Bangladesh  (Ft. Jadakiss & Pusha T) prod. by Bangladesh', u'100k by Nelly  prod. by Detail', u'24 Hours by TeeFlii  prod. by DJ Mustard', u'2 Chainz Sway in the Morning Freestyle', u'2 Heavy by RiFF RAFF  prod. by Diplo', u'2 Of Everything by Boy Wonder  (Ft. Reese) prod. by QWOND3R & Rieces Pieces', u'3500 by Travi$ Scott  (Ft. Future) prod. by Allen Ritter, Mano, Metro Boomin, Mike Dean & Zaytoven', u'36 prod. by Crack King', u'911 (Remix) by Rick Ross', u'Addicted To Rubberbands (Ft. J Hard) prod. by Drumma Boy', u'Ali Bomaye by The Game  (Ft. Rick Ross) prod. by Black Metaphor', u'All Gold Everything (Remix) by Trinidad James  (Ft. Jeezy & T.I.)', u'All Ice On Me (Disc 2 Intro)', u'All Me by Drake  (Ft. Big Sean) prod. by KeY Wane & Noah \"40\" Shebib', u'Alot of diss and dat by Yungbrezzy  (Ft. K~Kiidd)', u'A Milli Billi Trilli (Ft. Wiz Khalifa) prod. by FKi & Murda-Beatz', u'A-Rod (Ft. French Montana) prod. by Young Chop', u'A-Town (Remix) by CyHi The Prynce  (Ft. B.o.B & Travis Porter)', u'Awwsome (Remix) by Shy Glizzy  (Ft. A$AP Rocky)', u'Back 4 Da Summa by L.E.P Bogus Boys  prod. by Da Honorable C.N.O.T.E.']\n",
      "\n",
      "Talib Kweli songs exist\n",
      "[u'Get Em High by Kanye West  (Ft. Common) prod. by Kanye West', u'Respiration by Black Star  (Ft. Common) prod. by Hi-Tek', u'Thieves in the Night by Black Star  prod. by 88 Keys', u'Get By prod. by Kanye West', u'Brown Skin Lady by Black Star  prod. by J. Rawls', u'Definition by Black Star  prod. by Hi-Tek', u'Every Ghetto (Ft. Rapsody) prod. by Hi-Tek', u'1-9-9-9 by Common  (Ft. Sadat X) prod. by Hi-Tek', u'1st Time (feat. Consequence) (Ft. Consequence)', u'2000 Seasons by Reflection Eternal  prod. by Hi-Tek', u'5 AM in Brooklyn', u'Africa Dream by Reflection Eternal  prod. by Hi-Tek & Weldon Irvine', u'After the Rain prod. by 88 Keys', u'A Game prod. by Antwan \"Amadeus\" Thompson', u\"Ain't Waiting (Ft. Outasight) prod. by 6th Sense\", u'Around My Way (Ft. John Legend) prod. by Charlemagne', u'Around The Block by Pretty Lights  prod. by Pretty Lights', u'Art Imitates Life (Ft. Al Be Back, Black Thought & Rah Digga) prod. by Oh No', u'Astronomy (8th Light) by Black Star  (Ft. Weldon Irvine) prod. by Da Beatminerz', u'Attack the Block', u'Back It Up', u'Back Up Offa Me prod. by Hi-Tek', u'B Boys Will B Boys by Black Star  prod. by Ge-ology', u'B.D.K. (Ft. Black Thought, The Game & Xzibit) prod. by True Master', u'Beautiful (Ft. Big KRIT, Mela Machinko & Outasight)', u'Beautiful Struggle prod. by Hi-Tek', u'Before He Walked (Ft. Abby Dobson & Nelly) prod. by E. Jones']\n",
      "\n",
      "Tim McGraw songs exist\n",
      "[u'Humble And Kind', u'Top Of The World', u'Over and Over by Nelly  prod. by Jayson \"Koko\" Bridges', u'Here Tonight (Ft. Gracie McGraw)', u\"What You're Looking For\", u'Diamond Rings and Old Barstools (Ft. Cathrine Dunn)', u\"Everybody's Lookin' For Somethin'\", u'Angry All The Time', u'Annie I Owe You A Dance', u'Back When', u\"Can't Tell Me Nothin'\", u'Cold, Cold Heart by Tony Bennett', u'Diamond Rings and Old Barstools (Ft. Cathrine Dunn)', u\"Don't Take the Girl\", u'Felt Good On My Lips', u'Find Out Who Your Friends Are', u\"Grown Men Don't Cry\", u\"Highway Don't Care (Ft. Keith Urban & Taylor Swift)\", u'Humble And Kind', u\"If You're Reading This\", u'I Like It, I Love It', u'Indian Outlaw', u'I Need You (Ft. Faith Hill)', u\"It's Your Love (Ft. Faith Hill)\", u\"It's Your World\", u'Just To See You Smile', u'Last Dollar (Fly Away)']\n",
      "\n",
      "Bruce Springsteen songs exist\n",
      "[u'We Are The World by Michael Jackson  (Ft. Billy Joel, Bob Dylan, Cyndi Lauper, Daryl Hall, Diana Ross, Dionne Warwick, Harry Belafonte, Huey Lewis, James Ingram, Kenny Loggins, Kenny Rogers, Kim Carnes, Latoya Jackson, Lionel  Richie, Paul Simon, Ray Charles, Sheila E, Steve Perry, Stevie Wonder, Tina Turner & Willie Nelson)', u'Born in the U.S.A.', u'Born to Run', u'Thunder Road', u'Dancing In The Dark', u\"I'm on Fire\", u'The River', u'4th of July, Asbury Park (Sandy)', u\"57 Channels (and Nothin' On)\", u'Adam Raised A Cain prod. by Jon Landau & Steven Van Zandt', u\"Ain't Got You\", u'All That Heaven Will Allow', u'American Land', u'American Skin (41 Shots)', u'A night with the Jersey Devil', u'Atlantic City', u'Backstreets', u'Badlands prod. by Jon Landau & Steven Van Zandt', u'Blinded by the Light prod. by Jim Cretecos & Mike Appel', u'Blinded By The Light by Joyce Berry  prod. by Artie Fields', u'Blood Brothers', u'Bobby Jean', u'Born in the U.S.A.', u'Born to Run', u'Born to Run Bridgegate Parody by Jimmy Fallon', u'Brilliant Disguise', u'Cadillac Ranch']\n",
      "\n",
      "Led Zeppelin songs exist\n",
      "[u'Stairway to Heaven prod. by Jimmy Page', u'Black Dog prod. by Jimmy Page', u'Whole Lotta Love prod. by Jimmy Page', u'All My Love prod. by Jimmy Page', u'No Quarter prod. by Jimmy Page', u'Ramble On prod. by Jimmy Page', u'Kashmir prod. by Jimmy Page', u\"Achilles' Last Stand prod. by Jimmy Page\", u'All My Love prod. by Jimmy Page', u\"Babe I'm Gonna Leave You prod. by Jimmy Page\", u'Black Dog prod. by Jimmy Page', u'Black Mountain Side prod. by Jimmy Page', u'Bring It On Home prod. by Jimmy Page', u'Bron-Y-Aur Stomp prod. by Jimmy Page', u'Bron-Yr-Aur prod. by Jimmy Page', u'Celebration Day prod. by Jimmy Page', u'Communication Breakdown', u'Custard Pie prod. by Jimmy Page', u'Dancing Days prod. by Jimmy Page', u'Dazed and Confused prod. by Jimmy Page', u'Down by the Seaside prod. by Jimmy Page', u\"D'yer Mak'er prod. by Jimmy Page\", u'Fool In The Rain', u'For Your Life prod. by Jimmy Page', u'Friends prod. by Jimmy Page', u'Gallows Pole prod. by Jimmy Page', u'Going to California prod. by Jimmy Page']\n",
      "\n",
      "Dave Matthews Band songs exist\n",
      "[u'Crash Into Me prod. by Steve Lillywhite', u'#41 prod. by Steve Lillywhite', u'Ants Marching prod. by Steve Lillywhite', u'Dive In prod. by Rob Cavallo', u'Grey Street prod. by Stephen Harris', u'Belly Belly Nice prod. by Steve Lillywhite', u'The Space Between prod. by Glen Ballard', u'#41 prod. by Steve Lillywhite', u'Alligator Pie prod. by Rob Cavallo', u'Ants Marching prod. by Steve Lillywhite', u'Baby Blue prod. by Rob Cavallo', u'Bartender prod. by Stephen Harris', u'Belly Belly Nice prod. by Steve Lillywhite', u'Belly Full prod. by Steve Lillywhite', u'Big Eyed Fish prod. by Stephen Harris', u'Christmas Song prod. by John Alagia', u'Corn Bread', u'Cortez The Killer (Ft. Warren Haynes)', u'Crash Into Me prod. by Steve Lillywhite', u'Crush prod. by Steve Lillywhite', u'Cry Freedom prod. by Steve Lillywhite', u'Dancing Nancies prod. by Steve Lillywhite', u'Dive In prod. by Rob Cavallo', u\"Don't Drink The Water (Ft. Alanis Morissette & B\\xe9la Fleck) prod. by Steve Lillywhite\", u'Dreamgirl prod. by Mark Batson', u'Drive In, Drive Out prod. by Steve Lillywhite', u'Drunken Soldier prod. by Steve Lillywhite']\n",
      "\n",
      "Marilyn Manson songs exist\n",
      "[u'Cupid Carries a Gun', u'Deep Six prod. by Tyler Bates', u'The Mephistopheles of Los Angeles', u'Third Day of a Seven-Day Binge prod. by Tyler Jones', u'The Beautiful People', u'The Omen by DMX  prod. by Swizz Beatz', u'Slave Only Dreams To Be King', u'15', u'1996', u'Angel With The Scabbed Wings', u'Antichrist Superstar', u'A Place In The Dirt', u'Arma-Goddamn-Motherfuckin-Geddon', u'Autopsy', u'Bad Girl by Avril Lavigne', u'Better Of Two Evils', u'Birds of Hell Awaiting', u'Born Again', u'Breaking The Same Old Ground prod. by Chris Vrenna & Twiggy', u'Burning Flag', u'Cake and Sodomy', u'Children Of Cain', u'Columbine: Whose Fault Is It?', u'Coma Black', u'Coma White', u'Count to Six and Die prod. by Dave Sardy', u'Cruci-Fiction In Space']\n",
      "\n",
      "Fall Out Boy songs exist\n",
      "[u'Uma Thurman prod. by Jake Sinclair & Young Wolf Hatchlings', u'Centuries', u\"Sugar We're Going Down\", u'Irresistible', u\"The Kids Aren't Alright\", u'Thnks fr th Mmrs', u'Jet Pack Blues', u'20 Dollar Nose Bleed', u'27', u'7-9 Legendary', u'7 Minutes in Heaven (Atavan Halen)', u'A Little Less Sixteen Candles, a Little More \"Touch Me\"', u'Alone Together', u'Alpha Dog', u'ALPHAdog and OMEGAlomaniac', u'American Beauty/American Psycho', u'American Beauty/American Psycho (Remix) (Ft. A$AP Ferg)', u'American Boy', u'American Made prod. by Ryan Adams', u\"America's Suitehearts\", u'Art Of Keeping Up Disappearances prod. by Ryan Adams', u'Austin, We Have A Problem', u'Bang The Doldrums', u'Basket Case', u'Beat It', u'Better Than This (Rat a Tat) (Ft. Courtney Love)', u'Caffeine Cold prod. by Ryan Adams']\n",
      "\n",
      "Ellie Goulding songs exist\n",
      "[u'On My Mind prod. by Max Martin', u'Army prod. by Ali Payami & Max Martin', u'Calling Your Name by Young Thug  prod. by Goose', u'Aftertaste prod. by Greg Kurstin', u\"Don't Need Nobody prod. by Max Martin & The Struts\", u'Love Me Like You Do prod. by Ali Payami & Max Martin', u'Something In The Way You Move prod. by Greg Kurstin', u'4 AM in St. Louis by Habibi', u'Aftertaste prod. by Greg Kurstin', u'Animal', u'Anything Could Happen prod. by Jim Eliot', u'Army prod. by Ali Payami & Max Martin', u'Around U', u'Atlantis prod. by Jim Eliot', u'Beating Heart', u'Believe Me', u'Be Mine', u'Bittersweet (Ft. Skrillex)', u'Burn prod. by Greg Kurstin & Ryan Tedder', u'Calling Your Name by Young Thug  prod. by Goose', u'Codes prod. by Ilya Salmanzadeh & Max Martin', u'Crazy World by Alexanderdee', u'Dead In The Water prod. by Starsmith', u'Devotion', u\"Don't Need Nobody prod. by Max Martin & The Struts\", u\"Don't Panic prod. by Greg Kurstin\", u\"Don't Say a Word prod. by Jim Eliot\"]\n",
      "\n",
      "Selena Gomez songs exist\n",
      "[u'Same Old Love (Ft. Charli XCX) prod. by Benny Blanco & StarGate', u'Good For You (Ft. A$AP Rocky) prod. by Hit-Boy, Nick Monson, Rock Mafia & Sir Nolan', u'Hands To Myself prod. by Matt Man, Max Martin & Da Robin', u'Sober prod. by StarGate', u'Perfect prod. by Felix Snow', u'Kill Em With Kindness prod. by Benny Blanco, Dave Aud\\xe9 & Rock Mafia', u'Revival prod. by Hit-Boy & Rock Mafia', u'As A Blonde by Selena Gomez & The Scene', u'A Year Without Rain by Selena Gomez & The Scene', u'Bang A Drum', u'Bang Bang Bang by Selena Gomez & The Scene', u'B.E.A.T.', u'Bidi Bidi Bom Bom', u'Birthday', u'Body Heat prod. by Hit-Boy & Rock Mafia', u'Camouflage prod. by Chris Braide', u'Cologne prod. by Donkeyboy & StarGate', u'Come & Get It', u'Congratulations To Me', u'Dices by Selena Gomez & The Scene', u'Do It', u'Everything Is Not What It Seems', u'Falling Down by Selena Gomez & The Scene', u'Fly To Your Heart', u'Forget Forever', u'Ghost Of You by Selena Gomez & The Scene', u'Good For You (Ft. A$AP Rocky) prod. by Hit-Boy, Nick Monson, Rock Mafia & Sir Nolan']\n",
      "\n",
      "Justin Bieber songs exist\n",
      "[u'Love Yourself prod. by Benny Blanco', u'Sorry prod. by BLOOD & Skrillex', u\"I'll Show You prod. by Skrillex\", u'Mark My Words prod. by BLOOD', u'Purpose [Tracklist + Album Cover]', u'The Feeling (Ft. Halsey) prod. by Skrillex', u'No Sense (Ft. Travi$ Scott) prod. by Mike Dean, Soundz & Travi$ Scott', u'Actin Up by Asher Roth  (Ft. Chris Brown & Rye Rye) prod. by Oren Yoel', u'All Around the World (Ft. Ludacris)', u'All Bad', u'All In It', u'All I Want For Christmas Is You (Ft. Mariah Carey)', u'All I Want Is You', u'All That Matters prod. by Poo Bear', u'Alone', u'As Long As You Love Me (Ft. Big Sean) prod. by Andre Lindal & Darkchild', u'As Long As You Love Me (Acoustic Version)', u'Baby (Ft. Ludacris) prod. by The-Dream & Tricky Stewart', u'Backpack (Ft. Lil Wayne)', u'Bad Day prod. by The Audibles', u'Be Alright', u'Be Alright (Acoustic Version)', u'Beautiful by Carly Rae Jepsen', u'Beauty and a Beat (Ft. Nicki Minaj) prod. by Max Martin & Zedd', u'Beauty And A Beat (Acoustic Version)', u'Been You', u'Believe']\n",
      "\n",
      "Grimes songs exist\n",
      "[u'Kill V. Maim', u'Flesh without Blood', u'SCREAM (Ft. Aristophanes)', u'Venus Fly (Ft. Janelle Mon\\xe1e)', u'California', u'REALiTi', u'Artangels', u'Angel', u'Artangels', u'Avi', u'Be a Body (\\u4f98\\u5bc2)', u'Belly of the Beat', u'Butterfly', u'California', u'Circumambient', u'Devon', u'Easily', u'Eight', u'Entropy by Grimes & Bleachers  (Ft. Bleachers)', u'Flesh without Blood', u'Genesis', u'Go (Ft. BLOOD)', u'Good Job, Jackson! by Jakob X Jack The Spitter', u'Grisgris', u'I don\\u2019t want to have to compromise my morals in order to make a living', u'Infinite Love Without Fulfilment', u'Kill V. Maim']\n",
      "\n"
     ]
    }
   ],
   "source": [
    "# now test to see what songs each artist has\n",
    "\n",
    "ai_link = 'http://genius-api.com/api/artistInfo'\n",
    "\n",
    "for artist_dict in artist_list:\n",
    "    try:\n",
    "        a_data = requests.post(ai_link, data = artist_dict).json()\n",
    "        if a_data:\n",
    "            print artist_dict['name'], \"songs exist\"\n",
    "            print [a_data['songs'][v]['name'] for v in xrange(len(a_data['songs']))]\n",
    "            print \n",
    "    except:\n",
    "        print artist_dict['name'], 'no songs'\n",
    "        print"
   ]
  },
  {
   "cell_type": "code",
   "execution_count": null,
   "metadata": {
    "collapsed": true
   },
   "outputs": [],
   "source": []
  }
 ],
 "metadata": {
  "kernelspec": {
   "display_name": "Python 2",
   "language": "python",
   "name": "python2"
  },
  "language_info": {
   "codemirror_mode": {
    "name": "ipython",
    "version": 2
   },
   "file_extension": ".py",
   "mimetype": "text/x-python",
   "name": "python",
   "nbconvert_exporter": "python",
   "pygments_lexer": "ipython2",
   "version": "2.7.10"
  }
 },
 "nbformat": 4,
 "nbformat_minor": 0
}
