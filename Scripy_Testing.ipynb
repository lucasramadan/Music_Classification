{
 "cells": [
  {
   "cell_type": "code",
   "execution_count": null,
   "metadata": {
    "collapsed": false
   },
   "outputs": [],
   "source": [
    "from Scraping_Scripy import get_lyrics\n",
    "import pandas as pd"
   ]
  },
  {
   "cell_type": "code",
   "execution_count": null,
   "metadata": {
    "collapsed": true
   },
   "outputs": [],
   "source": [
    "artist_list = [ \n",
    "                {'genre': 'rap', 'name': 'Mos Def'},\n",
    "                {'genre':'rap', 'name': 'Young Jeezy'},\n",
    "                {'genre':'rap', 'name': 'Eminem'},\n",
    "                {'genre': 'rap', 'name': 'Kendrick Lamar'},\n",
    "                {'genre': 'rap', 'name': 'Snoop Dogg'},\n",
    "                {'genre': 'rap', 'name': 'Nas'},\n",
    "                {'genre': 'rap', 'name': 'Common'},\n",
    "                {'genre': 'rap', 'name': 'Kanye West'},\n",
    "                {'genre': 'rap', 'name': '2 Chainz'},\n",
    "                {'genre': 'rap', 'name': 'Talib Kweli'},\n",
    "                {'genre': 'rock', 'name': 'Tim McGraw'},\n",
    "                {'genre': 'rock', 'name': 'Bruce Springsteen'},\n",
    "                {'genre': 'rock', 'name': 'Led Zeppelin'},\n",
    "                {'genre': 'rock', 'name': 'Dave Matthews Band'},\n",
    "                {'genre': 'rock', 'name': 'Marilyn Manson'},\n",
    "                {'genre': 'rock', 'name': 'Fall Out Boy'},\n",
    "                {'genre': 'rock', 'name': 'Ellie Goulding'},\n",
    "                {'genre': 'rock', 'name': 'Selena Gomez'},\n",
    "                {'genre': 'rock', 'name': 'Justin Bieber'},\n",
    "                {'genre': 'rock', 'name': 'Grimes'}\n",
    "               ]"
   ]
  },
  {
   "cell_type": "code",
   "execution_count": null,
   "metadata": {
    "collapsed": false,
    "scrolled": true
   },
   "outputs": [],
   "source": [
    "data = get_lyrics(artist_list)"
   ]
  },
  {
   "cell_type": "code",
   "execution_count": null,
   "metadata": {
    "collapsed": false
   },
   "outputs": [],
   "source": [
    "df = pd.DataFrame(data)\n",
    "df.head(10)"
   ]
  },
  {
   "cell_type": "code",
   "execution_count": null,
   "metadata": {
    "collapsed": false
   },
   "outputs": [],
   "source": [
    "song1 = df[3][0]"
   ]
  },
  {
   "cell_type": "code",
   "execution_count": null,
   "metadata": {
    "collapsed": false
   },
   "outputs": [],
   "source": [
    "song1 = song1.replace('\\n', ' ')\n",
    "song1.replace(\"\\'\", \"'\")"
   ]
  },
  {
   "cell_type": "code",
   "execution_count": null,
   "metadata": {
    "collapsed": false
   },
   "outputs": [],
   "source": [
    "\"\\\\s\".replace(\"'\\s\", \"'s\")"
   ]
  },
  {
   "cell_type": "code",
   "execution_count": null,
   "metadata": {
    "collapsed": true
   },
   "outputs": [],
   "source": []
  }
 ],
 "metadata": {
  "kernelspec": {
   "display_name": "Python 2",
   "language": "python",
   "name": "python2"
  },
  "language_info": {
   "codemirror_mode": {
    "name": "ipython",
    "version": 2
   },
   "file_extension": ".py",
   "mimetype": "text/x-python",
   "name": "python",
   "nbconvert_exporter": "python",
   "pygments_lexer": "ipython2",
   "version": "2.7.10"
  }
 },
 "nbformat": 4,
 "nbformat_minor": 0
}
